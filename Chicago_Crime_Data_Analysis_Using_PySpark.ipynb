{
  "nbformat": 4,
  "nbformat_minor": 0,
  "metadata": {
    "colab": {
      "name": "Chicago_Crime_Data_Analysis_Using_PySpark.ipynb",
      "provenance": [],
      "collapsed_sections": []
    },
    "kernelspec": {
      "name": "python3",
      "display_name": "Python 3"
    }
  },
  "cells": [
    {
      "cell_type": "markdown",
      "metadata": {
        "id": "I9uA8fvrD3tV",
        "colab_type": "text"
      },
      "source": [
        "# Install Spark"
      ]
    },
    {
      "cell_type": "code",
      "metadata": {
        "id": "_BuAE22tD7NK",
        "colab_type": "code",
        "outputId": "0837cb30-b9d1-40bf-c108-6c1ccef79710",
        "colab": {
          "base_uri": "https://localhost:8080/",
          "height": 238
        }
      },
      "source": [
        "!apt-get update\n",
        "!apt-get install openjdk-8-jdk-headless -qq > /dev/null\n",
        "!wget -q http://archive.apache.org/dist/spark/spark-2.3.1/spark-2.3.1-bin-hadoop2.7.tgz\n",
        "!tar xf spark-2.3.1-bin-hadoop2.7.tgz\n",
        "!pip install -q findspark"
      ],
      "execution_count": 1,
      "outputs": [
        {
          "output_type": "stream",
          "text": [
            "\r0% [Working]\r            \rHit:1 https://cloud.r-project.org/bin/linux/ubuntu bionic-cran35/ InRelease\n",
            "\r0% [Connecting to archive.ubuntu.com (91.189.88.152)] [Connecting to security.u\r0% [1 InRelease gpgv 3,626 B] [Connecting to archive.ubuntu.com (91.189.88.152)\r                                                                               \rIgn:2 https://developer.download.nvidia.com/compute/cuda/repos/ubuntu1804/x86_64  InRelease\n",
            "\r0% [1 InRelease gpgv 3,626 B] [Connecting to archive.ubuntu.com (91.189.88.152)\r0% [Waiting for headers] [Waiting for headers] [Waiting for headers] [Waiting f\r                                                                               \rIgn:3 https://developer.download.nvidia.com/compute/machine-learning/repos/ubuntu1804/x86_64  InRelease\n",
            "\r                                                                               \r0% [Waiting for headers] [Waiting for headers] [Waiting for headers]\r                                                                    \rHit:4 https://developer.download.nvidia.com/compute/cuda/repos/ubuntu1804/x86_64  Release\n",
            "\r0% [Waiting for headers] [Waiting for headers] [Waiting for headers]\r0% [Release.gpg gpgv 564 B] [Waiting for headers] [Waiting for headers] [Waitin\r                                                                               \rHit:5 https://developer.download.nvidia.com/compute/machine-learning/repos/ubuntu1804/x86_64  Release\n",
            "\r0% [Release.gpg gpgv 564 B] [Waiting for headers] [Waiting for headers] [Waitin\r                                                                               \rGet:6 http://security.ubuntu.com/ubuntu bionic-security InRelease [88.7 kB]\n",
            "\r0% [Release.gpg gpgv 564 B] [Waiting for headers] [6 InRelease 2,586 B/88.7 kB \r                                                                               \rHit:7 http://archive.ubuntu.com/ubuntu bionic InRelease\n",
            "Hit:8 http://ppa.launchpad.net/graphics-drivers/ppa/ubuntu bionic InRelease\n",
            "Get:11 http://archive.ubuntu.com/ubuntu bionic-updates InRelease [88.7 kB]\n",
            "Hit:12 http://ppa.launchpad.net/marutter/c2d4u3.5/ubuntu bionic InRelease\n",
            "Get:13 http://archive.ubuntu.com/ubuntu bionic-backports InRelease [74.6 kB]\n",
            "Fetched 252 kB in 2s (123 kB/s)\n",
            "Reading package lists... Done\n"
          ],
          "name": "stdout"
        }
      ]
    },
    {
      "cell_type": "code",
      "metadata": {
        "id": "Iy2XgfzLEiqS",
        "colab_type": "code",
        "colab": {}
      },
      "source": [
        "import os\n",
        "os.environ[\"JAVA_HOME\"] = \"/usr/lib/jvm/java-8-openjdk-amd64\"\n",
        "os.environ[\"SPARK_HOME\"] = \"/content/spark-2.3.1-bin-hadoop2.7\""
      ],
      "execution_count": 0,
      "outputs": []
    },
    {
      "cell_type": "code",
      "metadata": {
        "id": "5BQJWZ-zEpM2",
        "colab_type": "code",
        "outputId": "b4ce7d0f-73cc-4899-8ad6-578c2e813618",
        "colab": {
          "base_uri": "https://localhost:8080/",
          "height": 68
        }
      },
      "source": [
        "!ls"
      ],
      "execution_count": 3,
      "outputs": [
        {
          "output_type": "stream",
          "text": [
            "reported-crimes.csv\t   spark-2.3.1-bin-hadoop2.7.tgz\n",
            "sample_data\t\t   spark-2.3.1-bin-hadoop2.7.tgz.1\n",
            "spark-2.3.1-bin-hadoop2.7  spark-warehouse\n"
          ],
          "name": "stdout"
        }
      ]
    },
    {
      "cell_type": "code",
      "metadata": {
        "id": "Zaz8dFfdEsSf",
        "colab_type": "code",
        "outputId": "1d8d56e8-8275-4fe0-bcdb-0da3022a6471",
        "colab": {
          "base_uri": "https://localhost:8080/",
          "height": 193
        }
      },
      "source": [
        "import findspark\n",
        "findspark.init()\n",
        "from pyspark import SparkContext\n",
        "\n",
        "sc = SparkContext.getOrCreate()\n",
        "sc"
      ],
      "execution_count": 4,
      "outputs": [
        {
          "output_type": "execute_result",
          "data": {
            "text/html": [
              "\n",
              "        <div>\n",
              "            <p><b>SparkContext</b></p>\n",
              "\n",
              "            <p><a href=\"http://35d23e126144:4040\">Spark UI</a></p>\n",
              "\n",
              "            <dl>\n",
              "              <dt>Version</dt>\n",
              "                <dd><code>v2.3.1</code></dd>\n",
              "              <dt>Master</dt>\n",
              "                <dd><code>local[*]</code></dd>\n",
              "              <dt>AppName</dt>\n",
              "                <dd><code>pyspark-shell</code></dd>\n",
              "            </dl>\n",
              "        </div>\n",
              "        "
            ],
            "text/plain": [
              "<SparkContext master=local[*] appName=pyspark-shell>"
            ]
          },
          "metadata": {
            "tags": []
          },
          "execution_count": 4
        }
      ]
    },
    {
      "cell_type": "code",
      "metadata": {
        "id": "qduEtLonEtwa",
        "colab_type": "code",
        "outputId": "22b0f6e6-8768-45ab-a7ea-edd69c66b130",
        "colab": {
          "base_uri": "https://localhost:8080/",
          "height": 216
        }
      },
      "source": [
        "import pyspark\n",
        "from pyspark.sql import SparkSession\n",
        "spark = SparkSession.builder.getOrCreate() \n",
        "spark"
      ],
      "execution_count": 5,
      "outputs": [
        {
          "output_type": "execute_result",
          "data": {
            "text/html": [
              "\n",
              "            <div>\n",
              "                <p><b>SparkSession - in-memory</b></p>\n",
              "                \n",
              "        <div>\n",
              "            <p><b>SparkContext</b></p>\n",
              "\n",
              "            <p><a href=\"http://35d23e126144:4040\">Spark UI</a></p>\n",
              "\n",
              "            <dl>\n",
              "              <dt>Version</dt>\n",
              "                <dd><code>v2.3.1</code></dd>\n",
              "              <dt>Master</dt>\n",
              "                <dd><code>local[*]</code></dd>\n",
              "              <dt>AppName</dt>\n",
              "                <dd><code>pyspark-shell</code></dd>\n",
              "            </dl>\n",
              "        </div>\n",
              "        \n",
              "            </div>\n",
              "        "
            ],
            "text/plain": [
              "<pyspark.sql.session.SparkSession at 0x7fbf0e35fd30>"
            ]
          },
          "metadata": {
            "tags": []
          },
          "execution_count": 5
        }
      ]
    },
    {
      "cell_type": "markdown",
      "metadata": {
        "id": "2CBYGzDKHOWc",
        "colab_type": "text"
      },
      "source": [
        "# Downloading and preprocessing Chicago's reported crime"
      ]
    },
    {
      "cell_type": "code",
      "metadata": {
        "id": "K19PL84EHVy9",
        "colab_type": "code",
        "outputId": "1bb96cf0-7406-42b4-c7d0-14f2164ad8dd",
        "colab": {
          "base_uri": "https://localhost:8080/",
          "height": 340
        }
      },
      "source": [
        "!wget https://data.cityofchicago.org/api/views/ijzp-q8t2/rows.csv?accessType=DOWNLOAD\n",
        "!ls -l"
      ],
      "execution_count": 6,
      "outputs": [
        {
          "output_type": "stream",
          "text": [
            "--2020-04-21 11:42:27--  https://data.cityofchicago.org/api/views/ijzp-q8t2/rows.csv?accessType=DOWNLOAD\n",
            "Resolving data.cityofchicago.org (data.cityofchicago.org)... 52.206.140.199, 52.206.68.26, 52.206.140.205\n",
            "Connecting to data.cityofchicago.org (data.cityofchicago.org)|52.206.140.199|:443... connected.\n",
            "HTTP request sent, awaiting response... 200 OK\n",
            "Length: unspecified [text/csv]\n",
            "Saving to: ‘rows.csv?accessType=DOWNLOAD’\n",
            "\n",
            "rows.csv?accessType     [            <=>     ]   1.56G  3.24MB/s    in 8m 7s   \n",
            "\n",
            "2020-04-21 11:50:35 (3.28 MB/s) - ‘rows.csv?accessType=DOWNLOAD’ saved [1675501425]\n",
            "\n",
            "total 3713672\n",
            "-rw-r--r--  1 root root 1675501425 Apr 20 11:10  reported-crimes.csv\n",
            "-rw-r--r--  1 root root 1675501425 Apr 20 11:10 'rows.csv?accessType=DOWNLOAD'\n",
            "drwxr-xr-x  1 root root       4096 Apr  3 16:24  sample_data\n",
            "drwxrwxr-x 13 1000 1000       4096 Jun  1  2018  spark-2.3.1-bin-hadoop2.7\n",
            "-rw-r--r--  1 root root  225883783 Jun  1  2018  spark-2.3.1-bin-hadoop2.7.tgz\n",
            "-rw-r--r--  1 root root  225883783 Jun  1  2018  spark-2.3.1-bin-hadoop2.7.tgz.1\n",
            "drwxr-xr-x  2 root root       4096 Apr 21 10:53  spark-warehouse\n"
          ],
          "name": "stdout"
        }
      ]
    },
    {
      "cell_type": "code",
      "metadata": {
        "id": "PFg-NHl2HrIC",
        "colab_type": "code",
        "outputId": "1732572b-35aa-4488-e1f0-31ff19f61ddf",
        "colab": {
          "base_uri": "https://localhost:8080/",
          "height": 85
        }
      },
      "source": [
        "!ls"
      ],
      "execution_count": 7,
      "outputs": [
        {
          "output_type": "stream",
          "text": [
            " reported-crimes.csv\t\t spark-2.3.1-bin-hadoop2.7.tgz\n",
            "'rows.csv?accessType=DOWNLOAD'\t spark-2.3.1-bin-hadoop2.7.tgz.1\n",
            " sample_data\t\t\t spark-warehouse\n",
            " spark-2.3.1-bin-hadoop2.7\n"
          ],
          "name": "stdout"
        }
      ]
    },
    {
      "cell_type": "code",
      "metadata": {
        "id": "lna8sB--HlBN",
        "colab_type": "code",
        "outputId": "9645e8c5-af68-41ae-8d43-f2c750b74480",
        "colab": {
          "base_uri": "https://localhost:8080/",
          "height": 136
        }
      },
      "source": [
        "!mv rows.csv\\?accessType\\=DOWNLOAD reported-crimes.csv\n",
        "!ls -l"
      ],
      "execution_count": 8,
      "outputs": [
        {
          "output_type": "stream",
          "text": [
            "total 2077436\n",
            "-rw-r--r--  1 root root 1675501425 Apr 20 11:10 reported-crimes.csv\n",
            "drwxr-xr-x  1 root root       4096 Apr  3 16:24 sample_data\n",
            "drwxrwxr-x 13 1000 1000       4096 Jun  1  2018 spark-2.3.1-bin-hadoop2.7\n",
            "-rw-r--r--  1 root root  225883783 Jun  1  2018 spark-2.3.1-bin-hadoop2.7.tgz\n",
            "-rw-r--r--  1 root root  225883783 Jun  1  2018 spark-2.3.1-bin-hadoop2.7.tgz.1\n",
            "drwxr-xr-x  2 root root       4096 Apr 21 10:53 spark-warehouse\n"
          ],
          "name": "stdout"
        }
      ]
    },
    {
      "cell_type": "code",
      "metadata": {
        "id": "0pjHsHs8Jxbk",
        "colab_type": "code",
        "outputId": "5f64a8c8-79a0-4d7e-a5ac-f96f75be2c0e",
        "colab": {
          "base_uri": "https://localhost:8080/",
          "height": 224
        }
      },
      "source": [
        "from pyspark.sql.functions import to_timestamp,col,lit\n",
        "rc = spark.read.csv('reported-crimes.csv',header=True).withColumn('Date',to_timestamp(col('Date'),'MM/dd/yyyy hh:mm:ss a')).filter(col('Date') == lit('2001-01-01'))\n",
        "rc.show(5, truncate=False) # To show long fields without truncating"
      ],
      "execution_count": 16,
      "outputs": [
        {
          "output_type": "stream",
          "text": [
            "+--------+-----------+-------------------+--------------------+----+--------------------+--------------------+--------------------+------+--------+----+--------+----+--------------+--------+------------+------------+----+--------------------+--------+---------+--------+\n",
            "|      ID|Case Number|               Date|               Block|IUCR|        Primary Type|         Description|Location Description|Arrest|Domestic|Beat|District|Ward|Community Area|FBI Code|X Coordinate|Y Coordinate|Year|          Updated On|Latitude|Longitude|Location|\n",
            "+--------+-----------+-------------------+--------------------+----+--------------------+--------------------+--------------------+------+--------+----+--------+----+--------------+--------+------------+------------+----+--------------------+--------+---------+--------+\n",
            "|11231026|   JB152500|2001-01-01 00:00:00| 050XX N ASHLAND AVE|1754|OFFENSE INVOLVING...|AGG SEX ASSLT OF ...|           RESIDENCE| false|   false|2032|     020|  47|             3|      02|        null|        null|2001|10/27/2018 04:00:...|    null|     null|    null|\n",
            "| 9755209|   HX403553|2001-01-01 00:00:00|031XX W DOUGLAS BLVD|1562|         SEX OFFENSE|AGG CRIMINAL SEXU...|CHURCH/SYNAGOGUE/...| false|   false|1022|     010|  24|            29|      17|        null|        null|2001|08/17/2015 03:03:...|    null|     null|    null|\n",
            "| 9748516|   HX397222|2001-01-01 00:00:00|031XX W DOUGLAS BLVD|1562|         SEX OFFENSE|AGG CRIMINAL SEXU...|CHURCH/SYNAGOGUE/...| false|   false|1022|     010|  24|            29|      17|        null|        null|2001|08/17/2015 03:03:...|    null|     null|    null|\n",
            "| 9755180|   HX403550|2001-01-01 00:00:00|031XX W DOUGLAS BLVD|1562|         SEX OFFENSE|AGG CRIMINAL SEXU...|CHURCH/SYNAGOGUE/...| false|   false|1022|     010|  24|            29|      17|        null|        null|2001|08/17/2015 03:03:...|    null|     null|    null|\n",
            "| 9652075|   HX302422|2001-01-01 00:00:00|   033XX W WALNUT ST|0266| CRIM SEXUAL ASSAULT|           PREDATORY|           RESIDENCE| false|   false|1123|     011|  28|            27|      02|        null|        null|2001|08/17/2015 03:03:...|    null|     null|    null|\n",
            "+--------+-----------+-------------------+--------------------+----+--------------------+--------------------+--------------------+------+--------+----+--------+----+--------------+--------+------------+------------+----+--------------------+--------+---------+--------+\n",
            "only showing top 5 rows\n",
            "\n"
          ],
          "name": "stdout"
        }
      ]
    },
    {
      "cell_type": "code",
      "metadata": {
        "id": "v7C0To6MfgWt",
        "colab_type": "code",
        "colab": {
          "base_uri": "https://localhost:8080/",
          "height": 34
        },
        "outputId": "caf9e384-4af1-4dfd-961e-9ecbe20e55f4"
      },
      "source": [
        "rc.count()"
      ],
      "execution_count": 17,
      "outputs": [
        {
          "output_type": "execute_result",
          "data": {
            "text/plain": [
              "191"
            ]
          },
          "metadata": {
            "tags": []
          },
          "execution_count": 17
        }
      ]
    },
    {
      "cell_type": "markdown",
      "metadata": {
        "id": "V8Haa97tdC5D",
        "colab_type": "text"
      },
      "source": [
        "# Reading data with custom schemas"
      ]
    },
    {
      "cell_type": "code",
      "metadata": {
        "id": "1o0esN-dMpmt",
        "colab_type": "code",
        "outputId": "e8cb129b-e16b-4e95-8f71-bcf677bd5d71",
        "colab": {
          "base_uri": "https://localhost:8080/",
          "height": 425
        }
      },
      "source": [
        "# Checkig current schema\n",
        "rc.printSchema()"
      ],
      "execution_count": 18,
      "outputs": [
        {
          "output_type": "stream",
          "text": [
            "root\n",
            " |-- ID: string (nullable = true)\n",
            " |-- Case Number: string (nullable = true)\n",
            " |-- Date: timestamp (nullable = true)\n",
            " |-- Block: string (nullable = true)\n",
            " |-- IUCR: string (nullable = true)\n",
            " |-- Primary Type: string (nullable = true)\n",
            " |-- Description: string (nullable = true)\n",
            " |-- Location Description: string (nullable = true)\n",
            " |-- Arrest: string (nullable = true)\n",
            " |-- Domestic: string (nullable = true)\n",
            " |-- Beat: string (nullable = true)\n",
            " |-- District: string (nullable = true)\n",
            " |-- Ward: string (nullable = true)\n",
            " |-- Community Area: string (nullable = true)\n",
            " |-- FBI Code: string (nullable = true)\n",
            " |-- X Coordinate: string (nullable = true)\n",
            " |-- Y Coordinate: string (nullable = true)\n",
            " |-- Year: string (nullable = true)\n",
            " |-- Updated On: string (nullable = true)\n",
            " |-- Latitude: string (nullable = true)\n",
            " |-- Longitude: string (nullable = true)\n",
            " |-- Location: string (nullable = true)\n",
            "\n"
          ],
          "name": "stdout"
        }
      ]
    },
    {
      "cell_type": "code",
      "metadata": {
        "id": "sBjfLfWjdVC0",
        "colab_type": "code",
        "colab": {}
      },
      "source": [
        "# Importing for defining custom schema\n",
        "from pyspark.sql.types import StructType, StructField, StringType, TimestampType, BooleanType, DoubleType, IntegerType"
      ],
      "execution_count": 0,
      "outputs": []
    },
    {
      "cell_type": "code",
      "metadata": {
        "id": "Nrqjrft5dnY4",
        "colab_type": "code",
        "outputId": "9e2165ca-db8f-4f19-94d6-252d2e4db2a2",
        "colab": {
          "base_uri": "https://localhost:8080/",
          "height": 391
        }
      },
      "source": [
        "# Listing column names\n",
        "rc.columns"
      ],
      "execution_count": 20,
      "outputs": [
        {
          "output_type": "execute_result",
          "data": {
            "text/plain": [
              "['ID',\n",
              " 'Case Number',\n",
              " 'Date',\n",
              " 'Block',\n",
              " 'IUCR',\n",
              " 'Primary Type',\n",
              " 'Description',\n",
              " 'Location Description',\n",
              " 'Arrest',\n",
              " 'Domestic',\n",
              " 'Beat',\n",
              " 'District',\n",
              " 'Ward',\n",
              " 'Community Area',\n",
              " 'FBI Code',\n",
              " 'X Coordinate',\n",
              " 'Y Coordinate',\n",
              " 'Year',\n",
              " 'Updated On',\n",
              " 'Latitude',\n",
              " 'Longitude',\n",
              " 'Location']"
            ]
          },
          "metadata": {
            "tags": []
          },
          "execution_count": 20
        }
      ]
    },
    {
      "cell_type": "code",
      "metadata": {
        "id": "5SASR7HPdsQ5",
        "colab_type": "code",
        "colab": {}
      },
      "source": [
        "# List contating field to type map\n",
        "labels = [\n",
        " ('ID',StringType()),\n",
        " ('Case Number',StringType()),\n",
        " ('Date',TimestampType()),\n",
        " ('Block',StringType()),\n",
        " ('IUCR',StringType()),\n",
        " ('Primary Type',StringType()),\n",
        " ('Description',StringType()),\n",
        " ('Location Description',StringType()),\n",
        " ('Arrest',StringType()),\n",
        " ('Domestic',BooleanType()),\n",
        " ('Beat',StringType()),\n",
        " ('District',StringType()),\n",
        " ('Ward',StringType()),\n",
        " ('Community Area',StringType()),\n",
        " ('FBI Code',StringType()),\n",
        " ('X Coordinate',StringType()),\n",
        " ('Y Coordinate',StringType()),\n",
        " ('Year',IntegerType()),\n",
        " ('Updated On',StringType()),\n",
        " ('Latitude',DoubleType()),\n",
        " ('Longitude',DoubleType()),\n",
        " ('Location',StringType())\n",
        "]"
      ],
      "execution_count": 0,
      "outputs": []
    },
    {
      "cell_type": "code",
      "metadata": {
        "id": "RcUjqf1MfzCS",
        "colab_type": "code",
        "outputId": "c5d0e617-51ad-4352-8ab6-b91e76887c30",
        "colab": {
          "base_uri": "https://localhost:8080/",
          "height": 54
        }
      },
      "source": [
        "# Creating custom schema\n",
        "schema = StructType([StructField(label[0], label[1], True) for label in labels]) # True specifies that our field is nullable\n",
        "schema"
      ],
      "execution_count": 22,
      "outputs": [
        {
          "output_type": "execute_result",
          "data": {
            "text/plain": [
              "StructType(List(StructField(ID,StringType,true),StructField(Case Number,StringType,true),StructField(Date,TimestampType,true),StructField(Block,StringType,true),StructField(IUCR,StringType,true),StructField(Primary Type,StringType,true),StructField(Description,StringType,true),StructField(Location Description,StringType,true),StructField(Arrest,StringType,true),StructField(Domestic,BooleanType,true),StructField(Beat,StringType,true),StructField(District,StringType,true),StructField(Ward,StringType,true),StructField(Community Area,StringType,true),StructField(FBI Code,StringType,true),StructField(X Coordinate,StringType,true),StructField(Y Coordinate,StringType,true),StructField(Year,IntegerType,true),StructField(Updated On,StringType,true),StructField(Latitude,DoubleType,true),StructField(Longitude,DoubleType,true),StructField(Location,StringType,true)))"
            ]
          },
          "metadata": {
            "tags": []
          },
          "execution_count": 22
        }
      ]
    },
    {
      "cell_type": "code",
      "metadata": {
        "id": "W6s1UMSlgec-",
        "colab_type": "code",
        "outputId": "afbfa15f-1766-492f-8211-dff3bc89c2e0",
        "colab": {
          "base_uri": "https://localhost:8080/",
          "height": 425
        }
      },
      "source": [
        "rc = spark.read.csv(\"reported-crimes.csv\", schema=schema)\n",
        "rc.printSchema()"
      ],
      "execution_count": 23,
      "outputs": [
        {
          "output_type": "stream",
          "text": [
            "root\n",
            " |-- ID: string (nullable = true)\n",
            " |-- Case Number: string (nullable = true)\n",
            " |-- Date: timestamp (nullable = true)\n",
            " |-- Block: string (nullable = true)\n",
            " |-- IUCR: string (nullable = true)\n",
            " |-- Primary Type: string (nullable = true)\n",
            " |-- Description: string (nullable = true)\n",
            " |-- Location Description: string (nullable = true)\n",
            " |-- Arrest: string (nullable = true)\n",
            " |-- Domestic: boolean (nullable = true)\n",
            " |-- Beat: string (nullable = true)\n",
            " |-- District: string (nullable = true)\n",
            " |-- Ward: string (nullable = true)\n",
            " |-- Community Area: string (nullable = true)\n",
            " |-- FBI Code: string (nullable = true)\n",
            " |-- X Coordinate: string (nullable = true)\n",
            " |-- Y Coordinate: string (nullable = true)\n",
            " |-- Year: integer (nullable = true)\n",
            " |-- Updated On: string (nullable = true)\n",
            " |-- Latitude: double (nullable = true)\n",
            " |-- Longitude: double (nullable = true)\n",
            " |-- Location: string (nullable = true)\n",
            "\n"
          ],
          "name": "stdout"
        }
      ]
    },
    {
      "cell_type": "code",
      "metadata": {
        "id": "wAx4CU_7gsUe",
        "colab_type": "code",
        "outputId": "2bd56e9b-91d4-455c-a28b-fcd33a665746",
        "colab": {
          "base_uri": "https://localhost:8080/",
          "height": 224
        }
      },
      "source": [
        "rc.show(5)"
      ],
      "execution_count": 24,
      "outputs": [
        {
          "output_type": "stream",
          "text": [
            "+----+-----------+----+-----+----+------------+-----------+--------------------+------+--------+----+--------+----+--------------+--------+------------+------------+----+----------+--------+---------+--------+\n",
            "|  ID|Case Number|Date|Block|IUCR|Primary Type|Description|Location Description|Arrest|Domestic|Beat|District|Ward|Community Area|FBI Code|X Coordinate|Y Coordinate|Year|Updated On|Latitude|Longitude|Location|\n",
            "+----+-----------+----+-----+----+------------+-----------+--------------------+------+--------+----+--------+----+--------------+--------+------------+------------+----+----------+--------+---------+--------+\n",
            "|null|       null|null| null|null|        null|       null|                null|  null|    null|null|    null|null|          null|    null|        null|        null|null|      null|    null|     null|    null|\n",
            "|null|       null|null| null|null|        null|       null|                null|  null|    null|null|    null|null|          null|    null|        null|        null|null|      null|    null|     null|    null|\n",
            "|null|       null|null| null|null|        null|       null|                null|  null|    null|null|    null|null|          null|    null|        null|        null|null|      null|    null|     null|    null|\n",
            "|null|       null|null| null|null|        null|       null|                null|  null|    null|null|    null|null|          null|    null|        null|        null|null|      null|    null|     null|    null|\n",
            "|null|       null|null| null|null|        null|       null|                null|  null|    null|null|    null|null|          null|    null|        null|        null|null|      null|    null|     null|    null|\n",
            "+----+-----------+----+-----+----+------------+-----------+--------------------+------+--------+----+--------+----+--------------+--------+------------+------------+----+----------+--------+---------+--------+\n",
            "only showing top 5 rows\n",
            "\n"
          ],
          "name": "stdout"
        }
      ]
    },
    {
      "cell_type": "markdown",
      "metadata": {
        "id": "DOz1iFnwg_Kn",
        "colab_type": "text"
      },
      "source": [
        "Instead of seeing the first five rows, we are seeing nulls. This is because our schema doesn't conform with the data in our csv for e.g some of our strings cannot be converted to integer type, some have problem with date types and so on. Schema which was generated by default worked for us so we will continue using that."
      ]
    },
    {
      "cell_type": "code",
      "metadata": {
        "id": "7eA1ftzYhrAs",
        "colab_type": "code",
        "outputId": "442a91ff-357e-4e1f-bc4e-3d45bd12712a",
        "colab": {
          "base_uri": "https://localhost:8080/",
          "height": 224
        }
      },
      "source": [
        "from pyspark.sql.functions import to_timestamp,col,lit\n",
        "rc = spark.read.csv('reported-crimes.csv',header=True).withColumn('Date',to_timestamp(col('Date'),'MM/dd/yyyy hh:mm:ss a')).filter(col('Date') == lit('2001-01-01')) # Capture all data till 11 Nov 2018\n",
        "rc.show(5)"
      ],
      "execution_count": 25,
      "outputs": [
        {
          "output_type": "stream",
          "text": [
            "+--------+-----------+-------------------+--------------------+----+--------------------+--------------------+--------------------+------+--------+----+--------+----+--------------+--------+------------+------------+----+--------------------+--------+---------+--------+\n",
            "|      ID|Case Number|               Date|               Block|IUCR|        Primary Type|         Description|Location Description|Arrest|Domestic|Beat|District|Ward|Community Area|FBI Code|X Coordinate|Y Coordinate|Year|          Updated On|Latitude|Longitude|Location|\n",
            "+--------+-----------+-------------------+--------------------+----+--------------------+--------------------+--------------------+------+--------+----+--------+----+--------------+--------+------------+------------+----+--------------------+--------+---------+--------+\n",
            "|11231026|   JB152500|2001-01-01 00:00:00| 050XX N ASHLAND AVE|1754|OFFENSE INVOLVING...|AGG SEX ASSLT OF ...|           RESIDENCE| false|   false|2032|     020|  47|             3|      02|        null|        null|2001|10/27/2018 04:00:...|    null|     null|    null|\n",
            "| 9755209|   HX403553|2001-01-01 00:00:00|031XX W DOUGLAS BLVD|1562|         SEX OFFENSE|AGG CRIMINAL SEXU...|CHURCH/SYNAGOGUE/...| false|   false|1022|     010|  24|            29|      17|        null|        null|2001|08/17/2015 03:03:...|    null|     null|    null|\n",
            "| 9748516|   HX397222|2001-01-01 00:00:00|031XX W DOUGLAS BLVD|1562|         SEX OFFENSE|AGG CRIMINAL SEXU...|CHURCH/SYNAGOGUE/...| false|   false|1022|     010|  24|            29|      17|        null|        null|2001|08/17/2015 03:03:...|    null|     null|    null|\n",
            "| 9755180|   HX403550|2001-01-01 00:00:00|031XX W DOUGLAS BLVD|1562|         SEX OFFENSE|AGG CRIMINAL SEXU...|CHURCH/SYNAGOGUE/...| false|   false|1022|     010|  24|            29|      17|        null|        null|2001|08/17/2015 03:03:...|    null|     null|    null|\n",
            "| 9652075|   HX302422|2001-01-01 00:00:00|   033XX W WALNUT ST|0266| CRIM SEXUAL ASSAULT|           PREDATORY|           RESIDENCE| false|   false|1123|     011|  28|            27|      02|        null|        null|2001|08/17/2015 03:03:...|    null|     null|    null|\n",
            "+--------+-----------+-------------------+--------------------+----+--------------------+--------------------+--------------------+------+--------+----+--------+----+--------------+--------+------------+------------+----+--------------------+--------+---------+--------+\n",
            "only showing top 5 rows\n",
            "\n"
          ],
          "name": "stdout"
        }
      ]
    },
    {
      "cell_type": "markdown",
      "metadata": {
        "id": "orq1L29chwZp",
        "colab_type": "text"
      },
      "source": [
        "# Working with columns"
      ]
    },
    {
      "cell_type": "markdown",
      "metadata": {
        "id": "ThdcYqRDic0e",
        "colab_type": "text"
      },
      "source": [
        "## Display first 5 rows of column IUCR"
      ]
    },
    {
      "cell_type": "code",
      "metadata": {
        "id": "xw0pniSrii5e",
        "colab_type": "code",
        "outputId": "237019b4-b8e0-42dc-d852-baa3b8d1702b",
        "colab": {
          "base_uri": "https://localhost:8080/",
          "height": 204
        }
      },
      "source": [
        "rc.select('IUCR').show(5)"
      ],
      "execution_count": 26,
      "outputs": [
        {
          "output_type": "stream",
          "text": [
            "+----+\n",
            "|IUCR|\n",
            "+----+\n",
            "|1754|\n",
            "|1562|\n",
            "|1562|\n",
            "|1562|\n",
            "|0266|\n",
            "+----+\n",
            "only showing top 5 rows\n",
            "\n"
          ],
          "name": "stdout"
        }
      ]
    },
    {
      "cell_type": "code",
      "metadata": {
        "id": "67ybXouNiyfG",
        "colab_type": "code",
        "outputId": "7d35a3d0-3496-44c0-fb64-f18ace0d43c6",
        "colab": {
          "base_uri": "https://localhost:8080/",
          "height": 204
        }
      },
      "source": [
        "rc.select(rc.IUCR).show(5)"
      ],
      "execution_count": 27,
      "outputs": [
        {
          "output_type": "stream",
          "text": [
            "+----+\n",
            "|IUCR|\n",
            "+----+\n",
            "|1754|\n",
            "|1562|\n",
            "|1562|\n",
            "|1562|\n",
            "|0266|\n",
            "+----+\n",
            "only showing top 5 rows\n",
            "\n"
          ],
          "name": "stdout"
        }
      ]
    },
    {
      "cell_type": "code",
      "metadata": {
        "id": "aHSpzFW1i6U5",
        "colab_type": "code",
        "outputId": "426c26e2-a13c-456b-f7b2-f12596333495",
        "colab": {
          "base_uri": "https://localhost:8080/",
          "height": 204
        }
      },
      "source": [
        "rc.select(col('IUCR')).show(5)"
      ],
      "execution_count": 28,
      "outputs": [
        {
          "output_type": "stream",
          "text": [
            "+----+\n",
            "|IUCR|\n",
            "+----+\n",
            "|1754|\n",
            "|1562|\n",
            "|1562|\n",
            "|1562|\n",
            "|0266|\n",
            "+----+\n",
            "only showing top 5 rows\n",
            "\n"
          ],
          "name": "stdout"
        }
      ]
    },
    {
      "cell_type": "markdown",
      "metadata": {
        "id": "JDtxFnRPjFKO",
        "colab_type": "text"
      },
      "source": [
        "## Display first 4 rows of columns Case Number, Date and Arrest"
      ]
    },
    {
      "cell_type": "code",
      "metadata": {
        "id": "HVLCKE3ljNlG",
        "colab_type": "code",
        "outputId": "62d0c8f0-ca9a-48d4-b001-8fa9ee5176c0",
        "colab": {
          "base_uri": "https://localhost:8080/",
          "height": 187
        }
      },
      "source": [
        "rc.select('Case Number', 'Date', 'Arrest').show(4)"
      ],
      "execution_count": 29,
      "outputs": [
        {
          "output_type": "stream",
          "text": [
            "+-----------+-------------------+------+\n",
            "|Case Number|               Date|Arrest|\n",
            "+-----------+-------------------+------+\n",
            "|   JB152500|2001-01-01 00:00:00| false|\n",
            "|   HX403553|2001-01-01 00:00:00| false|\n",
            "|   HX397222|2001-01-01 00:00:00| false|\n",
            "|   HX403550|2001-01-01 00:00:00| false|\n",
            "+-----------+-------------------+------+\n",
            "only showing top 4 rows\n",
            "\n"
          ],
          "name": "stdout"
        }
      ]
    },
    {
      "cell_type": "markdown",
      "metadata": {
        "id": "OwYeoJWcjZ9n",
        "colab_type": "text"
      },
      "source": [
        "## Add a column named One with all entries as 1"
      ]
    },
    {
      "cell_type": "code",
      "metadata": {
        "id": "DqvXyGXCjixy",
        "colab_type": "code",
        "colab": {}
      },
      "source": [
        "from pyspark.sql.functions import lit"
      ],
      "execution_count": 0,
      "outputs": []
    },
    {
      "cell_type": "code",
      "metadata": {
        "id": "SU1NEj_Ijpb9",
        "colab_type": "code",
        "outputId": "24392d4e-d672-4819-b858-029e10ba606d",
        "colab": {
          "base_uri": "https://localhost:8080/",
          "height": 224
        }
      },
      "source": [
        "rc.withColumn('One', lit(1)).show(5) # This won't add column to original rc as we haven't reassigned rc with the result"
      ],
      "execution_count": 31,
      "outputs": [
        {
          "output_type": "stream",
          "text": [
            "+--------+-----------+-------------------+--------------------+----+--------------------+--------------------+--------------------+------+--------+----+--------+----+--------------+--------+------------+------------+----+--------------------+--------+---------+--------+---+\n",
            "|      ID|Case Number|               Date|               Block|IUCR|        Primary Type|         Description|Location Description|Arrest|Domestic|Beat|District|Ward|Community Area|FBI Code|X Coordinate|Y Coordinate|Year|          Updated On|Latitude|Longitude|Location|One|\n",
            "+--------+-----------+-------------------+--------------------+----+--------------------+--------------------+--------------------+------+--------+----+--------+----+--------------+--------+------------+------------+----+--------------------+--------+---------+--------+---+\n",
            "|11231026|   JB152500|2001-01-01 00:00:00| 050XX N ASHLAND AVE|1754|OFFENSE INVOLVING...|AGG SEX ASSLT OF ...|           RESIDENCE| false|   false|2032|     020|  47|             3|      02|        null|        null|2001|10/27/2018 04:00:...|    null|     null|    null|  1|\n",
            "| 9755209|   HX403553|2001-01-01 00:00:00|031XX W DOUGLAS BLVD|1562|         SEX OFFENSE|AGG CRIMINAL SEXU...|CHURCH/SYNAGOGUE/...| false|   false|1022|     010|  24|            29|      17|        null|        null|2001|08/17/2015 03:03:...|    null|     null|    null|  1|\n",
            "| 9748516|   HX397222|2001-01-01 00:00:00|031XX W DOUGLAS BLVD|1562|         SEX OFFENSE|AGG CRIMINAL SEXU...|CHURCH/SYNAGOGUE/...| false|   false|1022|     010|  24|            29|      17|        null|        null|2001|08/17/2015 03:03:...|    null|     null|    null|  1|\n",
            "| 9755180|   HX403550|2001-01-01 00:00:00|031XX W DOUGLAS BLVD|1562|         SEX OFFENSE|AGG CRIMINAL SEXU...|CHURCH/SYNAGOGUE/...| false|   false|1022|     010|  24|            29|      17|        null|        null|2001|08/17/2015 03:03:...|    null|     null|    null|  1|\n",
            "| 9652075|   HX302422|2001-01-01 00:00:00|   033XX W WALNUT ST|0266| CRIM SEXUAL ASSAULT|           PREDATORY|           RESIDENCE| false|   false|1123|     011|  28|            27|      02|        null|        null|2001|08/17/2015 03:03:...|    null|     null|    null|  1|\n",
            "+--------+-----------+-------------------+--------------------+----+--------------------+--------------------+--------------------+------+--------+----+--------+----+--------------+--------+------------+------------+----+--------------------+--------+---------+--------+---+\n",
            "only showing top 5 rows\n",
            "\n"
          ],
          "name": "stdout"
        }
      ]
    },
    {
      "cell_type": "code",
      "metadata": {
        "id": "f_WeHlgbksRO",
        "colab_type": "code",
        "colab": {}
      },
      "source": [
        "rc = rc.withColumn('One', lit(1)) # This will ad new column to rc called One"
      ],
      "execution_count": 0,
      "outputs": []
    },
    {
      "cell_type": "code",
      "metadata": {
        "id": "7Pef3gjFk21X",
        "colab_type": "code",
        "outputId": "9773d880-e269-4e64-b898-05bbcc6030e9",
        "colab": {
          "base_uri": "https://localhost:8080/",
          "height": 408
        }
      },
      "source": [
        "rc.columns"
      ],
      "execution_count": 33,
      "outputs": [
        {
          "output_type": "execute_result",
          "data": {
            "text/plain": [
              "['ID',\n",
              " 'Case Number',\n",
              " 'Date',\n",
              " 'Block',\n",
              " 'IUCR',\n",
              " 'Primary Type',\n",
              " 'Description',\n",
              " 'Location Description',\n",
              " 'Arrest',\n",
              " 'Domestic',\n",
              " 'Beat',\n",
              " 'District',\n",
              " 'Ward',\n",
              " 'Community Area',\n",
              " 'FBI Code',\n",
              " 'X Coordinate',\n",
              " 'Y Coordinate',\n",
              " 'Year',\n",
              " 'Updated On',\n",
              " 'Latitude',\n",
              " 'Longitude',\n",
              " 'Location',\n",
              " 'One']"
            ]
          },
          "metadata": {
            "tags": []
          },
          "execution_count": 33
        }
      ]
    },
    {
      "cell_type": "markdown",
      "metadata": {
        "id": "SkjF9IBEk-gu",
        "colab_type": "text"
      },
      "source": [
        "## Multiply entire column One with 2"
      ]
    },
    {
      "cell_type": "code",
      "metadata": {
        "id": "k8fW5kAwlFrO",
        "colab_type": "code",
        "outputId": "766f34a7-6fea-4501-ffcc-7d3c802eec2b",
        "colab": {
          "base_uri": "https://localhost:8080/",
          "height": 224
        }
      },
      "source": [
        "rc = rc.withColumn('One', 2*rc['One'])\n",
        "rc.show(5)"
      ],
      "execution_count": 34,
      "outputs": [
        {
          "output_type": "stream",
          "text": [
            "+--------+-----------+-------------------+--------------------+----+--------------------+--------------------+--------------------+------+--------+----+--------+----+--------------+--------+------------+------------+----+--------------------+--------+---------+--------+---+\n",
            "|      ID|Case Number|               Date|               Block|IUCR|        Primary Type|         Description|Location Description|Arrest|Domestic|Beat|District|Ward|Community Area|FBI Code|X Coordinate|Y Coordinate|Year|          Updated On|Latitude|Longitude|Location|One|\n",
            "+--------+-----------+-------------------+--------------------+----+--------------------+--------------------+--------------------+------+--------+----+--------+----+--------------+--------+------------+------------+----+--------------------+--------+---------+--------+---+\n",
            "|11231026|   JB152500|2001-01-01 00:00:00| 050XX N ASHLAND AVE|1754|OFFENSE INVOLVING...|AGG SEX ASSLT OF ...|           RESIDENCE| false|   false|2032|     020|  47|             3|      02|        null|        null|2001|10/27/2018 04:00:...|    null|     null|    null|  2|\n",
            "| 9755209|   HX403553|2001-01-01 00:00:00|031XX W DOUGLAS BLVD|1562|         SEX OFFENSE|AGG CRIMINAL SEXU...|CHURCH/SYNAGOGUE/...| false|   false|1022|     010|  24|            29|      17|        null|        null|2001|08/17/2015 03:03:...|    null|     null|    null|  2|\n",
            "| 9748516|   HX397222|2001-01-01 00:00:00|031XX W DOUGLAS BLVD|1562|         SEX OFFENSE|AGG CRIMINAL SEXU...|CHURCH/SYNAGOGUE/...| false|   false|1022|     010|  24|            29|      17|        null|        null|2001|08/17/2015 03:03:...|    null|     null|    null|  2|\n",
            "| 9755180|   HX403550|2001-01-01 00:00:00|031XX W DOUGLAS BLVD|1562|         SEX OFFENSE|AGG CRIMINAL SEXU...|CHURCH/SYNAGOGUE/...| false|   false|1022|     010|  24|            29|      17|        null|        null|2001|08/17/2015 03:03:...|    null|     null|    null|  2|\n",
            "| 9652075|   HX302422|2001-01-01 00:00:00|   033XX W WALNUT ST|0266| CRIM SEXUAL ASSAULT|           PREDATORY|           RESIDENCE| false|   false|1123|     011|  28|            27|      02|        null|        null|2001|08/17/2015 03:03:...|    null|     null|    null|  2|\n",
            "+--------+-----------+-------------------+--------------------+----+--------------------+--------------------+--------------------+------+--------+----+--------+----+--------------+--------+------------+------------+----+--------------------+--------+---------+--------+---+\n",
            "only showing top 5 rows\n",
            "\n"
          ],
          "name": "stdout"
        }
      ]
    },
    {
      "cell_type": "markdown",
      "metadata": {
        "id": "ObUdmwrZliXt",
        "colab_type": "text"
      },
      "source": [
        "## Rename column One to Two"
      ]
    },
    {
      "cell_type": "code",
      "metadata": {
        "id": "TBVedqunlqEW",
        "colab_type": "code",
        "outputId": "b9ee163d-7919-4802-ecb0-64366a68c5f7",
        "colab": {
          "base_uri": "https://localhost:8080/",
          "height": 408
        }
      },
      "source": [
        "rc = rc.withColumnRenamed('One', 'Two')\n",
        "rc.columns"
      ],
      "execution_count": 35,
      "outputs": [
        {
          "output_type": "execute_result",
          "data": {
            "text/plain": [
              "['ID',\n",
              " 'Case Number',\n",
              " 'Date',\n",
              " 'Block',\n",
              " 'IUCR',\n",
              " 'Primary Type',\n",
              " 'Description',\n",
              " 'Location Description',\n",
              " 'Arrest',\n",
              " 'Domestic',\n",
              " 'Beat',\n",
              " 'District',\n",
              " 'Ward',\n",
              " 'Community Area',\n",
              " 'FBI Code',\n",
              " 'X Coordinate',\n",
              " 'Y Coordinate',\n",
              " 'Year',\n",
              " 'Updated On',\n",
              " 'Latitude',\n",
              " 'Longitude',\n",
              " 'Location',\n",
              " 'Two']"
            ]
          },
          "metadata": {
            "tags": []
          },
          "execution_count": 35
        }
      ]
    },
    {
      "cell_type": "markdown",
      "metadata": {
        "id": "2aGd9tmpj1FP",
        "colab_type": "text"
      },
      "source": [
        "## Drop column Two"
      ]
    },
    {
      "cell_type": "code",
      "metadata": {
        "id": "tIs1TNMSj1QL",
        "colab_type": "code",
        "outputId": "26bd7ee2-dd1a-4f4a-a7fe-fcd7436e72ba",
        "colab": {
          "base_uri": "https://localhost:8080/",
          "height": 224
        }
      },
      "source": [
        "rc = rc.drop('Two')\n",
        "rc.show(5)"
      ],
      "execution_count": 36,
      "outputs": [
        {
          "output_type": "stream",
          "text": [
            "+--------+-----------+-------------------+--------------------+----+--------------------+--------------------+--------------------+------+--------+----+--------+----+--------------+--------+------------+------------+----+--------------------+--------+---------+--------+\n",
            "|      ID|Case Number|               Date|               Block|IUCR|        Primary Type|         Description|Location Description|Arrest|Domestic|Beat|District|Ward|Community Area|FBI Code|X Coordinate|Y Coordinate|Year|          Updated On|Latitude|Longitude|Location|\n",
            "+--------+-----------+-------------------+--------------------+----+--------------------+--------------------+--------------------+------+--------+----+--------+----+--------------+--------+------------+------------+----+--------------------+--------+---------+--------+\n",
            "|11231026|   JB152500|2001-01-01 00:00:00| 050XX N ASHLAND AVE|1754|OFFENSE INVOLVING...|AGG SEX ASSLT OF ...|           RESIDENCE| false|   false|2032|     020|  47|             3|      02|        null|        null|2001|10/27/2018 04:00:...|    null|     null|    null|\n",
            "| 9755209|   HX403553|2001-01-01 00:00:00|031XX W DOUGLAS BLVD|1562|         SEX OFFENSE|AGG CRIMINAL SEXU...|CHURCH/SYNAGOGUE/...| false|   false|1022|     010|  24|            29|      17|        null|        null|2001|08/17/2015 03:03:...|    null|     null|    null|\n",
            "| 9748516|   HX397222|2001-01-01 00:00:00|031XX W DOUGLAS BLVD|1562|         SEX OFFENSE|AGG CRIMINAL SEXU...|CHURCH/SYNAGOGUE/...| false|   false|1022|     010|  24|            29|      17|        null|        null|2001|08/17/2015 03:03:...|    null|     null|    null|\n",
            "| 9755180|   HX403550|2001-01-01 00:00:00|031XX W DOUGLAS BLVD|1562|         SEX OFFENSE|AGG CRIMINAL SEXU...|CHURCH/SYNAGOGUE/...| false|   false|1022|     010|  24|            29|      17|        null|        null|2001|08/17/2015 03:03:...|    null|     null|    null|\n",
            "| 9652075|   HX302422|2001-01-01 00:00:00|   033XX W WALNUT ST|0266| CRIM SEXUAL ASSAULT|           PREDATORY|           RESIDENCE| false|   false|1123|     011|  28|            27|      02|        null|        null|2001|08/17/2015 03:03:...|    null|     null|    null|\n",
            "+--------+-----------+-------------------+--------------------+----+--------------------+--------------------+--------------------+------+--------+----+--------+----+--------------+--------+------------+------------+----+--------------------+--------+---------+--------+\n",
            "only showing top 5 rows\n",
            "\n"
          ],
          "name": "stdout"
        }
      ]
    },
    {
      "cell_type": "markdown",
      "metadata": {
        "id": "VCR8BBRNj1cJ",
        "colab_type": "text"
      },
      "source": [
        "# Working with rows"
      ]
    },
    {
      "cell_type": "markdown",
      "metadata": {
        "id": "p84MaiClk0xU",
        "colab_type": "text"
      },
      "source": [
        "## Read data for 02 Jan 2001 from csv"
      ]
    },
    {
      "cell_type": "code",
      "metadata": {
        "id": "Ize-hJfdk8y6",
        "colab_type": "code",
        "outputId": "68e99698-59b7-44fb-93ab-dc8f72c33f4b",
        "colab": {
          "base_uri": "https://localhost:8080/",
          "height": 224
        }
      },
      "source": [
        "one_day = spark.read.csv('reported-crimes.csv',header=True).withColumn('Date',to_timestamp(col('Date'),'MM/dd/yyyy hh:mm:ss a')).filter(col('Date') == lit('2001-01-02')) # Capture data for 12 Nov 2018\n",
        "one_day.show(5)"
      ],
      "execution_count": 37,
      "outputs": [
        {
          "output_type": "stream",
          "text": [
            "+-------+-----------+-------------------+--------------------+----+---------------+-----------+--------------------+------+--------+----+--------+----+--------------+--------+------------+------------+----+--------------------+------------+-------------+--------------------+\n",
            "|     ID|Case Number|               Date|               Block|IUCR|   Primary Type|Description|Location Description|Arrest|Domestic|Beat|District|Ward|Community Area|FBI Code|X Coordinate|Y Coordinate|Year|          Updated On|    Latitude|    Longitude|            Location|\n",
            "+-------+-----------+-------------------+--------------------+----+---------------+-----------+--------------------+------+--------+----+--------+----+--------------+--------+------------+------------+----+--------------------+------------+-------------+--------------------+\n",
            "|1311133|    G002251|2001-01-02 00:00:00|076XX S DR MARTN ...|0810|          THEFT|  OVER $500|              STREET| false|   false|0624|     006|null|          null|      06|     1180272|     1854305|2001|08/17/2015 03:03:...|41.755476441|-87.614913755|(41.755476441, -8...|\n",
            "|1312453|    G003437|2001-01-02 00:00:00| 055XX S KOMENSKY AV|1310|CRIMINAL DAMAGE|TO PROPERTY|    RESIDENCE-GARAGE| false|   false|0813|     008|null|          null|      14|     1150349|     1867602|2001|08/17/2015 03:03:...|41.792598917|-87.724229745|(41.792598917, -8...|\n",
            "|1312484|    G003526|2001-01-02 00:00:00|    103XX S AVENUE G|1320|CRIMINAL DAMAGE| TO VEHICLE|              STREET| false|   false|0432|     004|null|          null|      14|     1203191|     1837003|2001|08/17/2015 03:03:...|41.707442692|-87.531513935|(41.707442692, -8...|\n",
            "|1312553|    G003692|2001-01-02 00:00:00|   012XX W NELSON ST|1320|CRIMINAL DAMAGE| TO VEHICLE|              STREET| false|   false|1932|     019|null|          null|      14|     1167402|     1920423|2001|08/17/2015 03:03:...|41.937195601| -87.66017971|(41.937195601, -8...|\n",
            "|1312615|    G003834|2001-01-02 00:00:00|       020XX W 76 ST|0810|          THEFT|  OVER $500|    RESIDENCE-GARAGE| false|   false|0611|     006|null|          null|      06|     1163697|     1854282|2001|08/17/2015 03:03:...| 41.75577709| -87.67565765|(41.75577709, -87...|\n",
            "+-------+-----------+-------------------+--------------------+----+---------------+-----------+--------------------+------+--------+----+--------+----+--------------+--------+------------+------------+----+--------------------+------------+-------------+--------------------+\n",
            "only showing top 5 rows\n",
            "\n"
          ],
          "name": "stdout"
        }
      ]
    },
    {
      "cell_type": "markdown",
      "metadata": {
        "id": "CjEJPelnloey",
        "colab_type": "text"
      },
      "source": [
        "## Count number of crimes happened on 12 Nov 2018"
      ]
    },
    {
      "cell_type": "code",
      "metadata": {
        "id": "lwVOSqwcnHwy",
        "colab_type": "code",
        "outputId": "0350d47c-1850-471d-991c-f355f3f7b0f3",
        "colab": {
          "base_uri": "https://localhost:8080/",
          "height": 34
        }
      },
      "source": [
        "one_day.count()"
      ],
      "execution_count": 38,
      "outputs": [
        {
          "output_type": "execute_result",
          "data": {
            "text/plain": [
              "24"
            ]
          },
          "metadata": {
            "tags": []
          },
          "execution_count": 38
        }
      ]
    },
    {
      "cell_type": "markdown",
      "metadata": {
        "id": "wCfW_qNOnb15",
        "colab_type": "text"
      },
      "source": [
        "## Add crimes happened on 12 Nov 2018 to original dataframe"
      ]
    },
    {
      "cell_type": "code",
      "metadata": {
        "id": "nw6XhJnyncYW",
        "colab_type": "code",
        "outputId": "83564356-92dd-4691-d7b7-28162275e09c",
        "colab": {
          "base_uri": "https://localhost:8080/",
          "height": 224
        }
      },
      "source": [
        "rc = rc.union(one_day)\n",
        "rc.orderBy('Date', ascending=False).show(5)\n",
        "# Since our new df columns will be added at the end\n",
        "# So ordering by date descending to see added columns"
      ],
      "execution_count": 39,
      "outputs": [
        {
          "output_type": "stream",
          "text": [
            "+-------+-----------+-------------------+--------------------+----+---------------+-----------+--------------------+------+--------+----+--------+----+--------------+--------+------------+------------+----+--------------------+------------+-------------+--------------------+\n",
            "|     ID|Case Number|               Date|               Block|IUCR|   Primary Type|Description|Location Description|Arrest|Domestic|Beat|District|Ward|Community Area|FBI Code|X Coordinate|Y Coordinate|Year|          Updated On|    Latitude|    Longitude|            Location|\n",
            "+-------+-----------+-------------------+--------------------+----+---------------+-----------+--------------------+------+--------+----+--------+----+--------------+--------+------------+------------+----+--------------------+------------+-------------+--------------------+\n",
            "|1312615|    G003834|2001-01-02 00:00:00|       020XX W 76 ST|0810|          THEFT|  OVER $500|    RESIDENCE-GARAGE| false|   false|0611|     006|null|          null|      06|     1163697|     1854282|2001|08/17/2015 03:03:...| 41.75577709| -87.67565765|(41.75577709, -87...|\n",
            "|1312484|    G003526|2001-01-02 00:00:00|    103XX S AVENUE G|1320|CRIMINAL DAMAGE| TO VEHICLE|              STREET| false|   false|0432|     004|null|          null|      14|     1203191|     1837003|2001|08/17/2015 03:03:...|41.707442692|-87.531513935|(41.707442692, -8...|\n",
            "|1312553|    G003692|2001-01-02 00:00:00|   012XX W NELSON ST|1320|CRIMINAL DAMAGE| TO VEHICLE|              STREET| false|   false|1932|     019|null|          null|      14|     1167402|     1920423|2001|08/17/2015 03:03:...|41.937195601| -87.66017971|(41.937195601, -8...|\n",
            "|1311133|    G002251|2001-01-02 00:00:00|076XX S DR MARTN ...|0810|          THEFT|  OVER $500|              STREET| false|   false|0624|     006|null|          null|      06|     1180272|     1854305|2001|08/17/2015 03:03:...|41.755476441|-87.614913755|(41.755476441, -8...|\n",
            "|1312453|    G003437|2001-01-02 00:00:00| 055XX S KOMENSKY AV|1310|CRIMINAL DAMAGE|TO PROPERTY|    RESIDENCE-GARAGE| false|   false|0813|     008|null|          null|      14|     1150349|     1867602|2001|08/17/2015 03:03:...|41.792598917|-87.724229745|(41.792598917, -8...|\n",
            "+-------+-----------+-------------------+--------------------+----+---------------+-----------+--------------------+------+--------+----+--------+----+--------------+--------+------------+------------+----+--------------------+------------+-------------+--------------------+\n",
            "only showing top 5 rows\n",
            "\n"
          ],
          "name": "stdout"
        }
      ]
    },
    {
      "cell_type": "markdown",
      "metadata": {
        "id": "_9wrl24Yo7ao",
        "colab_type": "text"
      },
      "source": [
        "We can see that the top 3 rows are the newly added rows"
      ]
    },
    {
      "cell_type": "markdown",
      "metadata": {
        "id": "qJu-De3NpKc7",
        "colab_type": "text"
      },
      "source": [
        "## What are top 10 number of reported crimes by Primary type in descending order of occurence?"
      ]
    },
    {
      "cell_type": "code",
      "metadata": {
        "id": "k-AKMOOipHyb",
        "colab_type": "code",
        "outputId": "c0d051e9-9772-4369-8fb6-fce9d60ec81a",
        "colab": {
          "base_uri": "https://localhost:8080/",
          "height": 306
        }
      },
      "source": [
        "rc.groupby('Primary Type').count().show()"
      ],
      "execution_count": 40,
      "outputs": [
        {
          "output_type": "stream",
          "text": [
            "+--------------------+-----+\n",
            "|        Primary Type|count|\n",
            "+--------------------+-----+\n",
            "|OFFENSE INVOLVING...|   29|\n",
            "|CRIMINAL SEXUAL A...|    1|\n",
            "|             ASSAULT|    3|\n",
            "| MOTOR VEHICLE THEFT|    1|\n",
            "|               THEFT|   78|\n",
            "|             BATTERY|    2|\n",
            "| CRIM SEXUAL ASSAULT|   12|\n",
            "|  DECEPTIVE PRACTICE|   18|\n",
            "|         SEX OFFENSE|   39|\n",
            "|     CRIMINAL DAMAGE|   22|\n",
            "|       OTHER OFFENSE|    9|\n",
            "|            BURGLARY|    1|\n",
            "+--------------------+-----+\n",
            "\n"
          ],
          "name": "stdout"
        }
      ]
    },
    {
      "cell_type": "markdown",
      "metadata": {
        "id": "NUksSTVlpliq",
        "colab_type": "text"
      },
      "source": [
        "The result is not ordered so adding logic to order."
      ]
    },
    {
      "cell_type": "code",
      "metadata": {
        "id": "cTNZJLBTpkjo",
        "colab_type": "code",
        "outputId": "5f4bd777-1760-4811-9877-c68a7341ada5",
        "colab": {
          "base_uri": "https://localhost:8080/",
          "height": 289
        }
      },
      "source": [
        "rc.groupBy('Primary Type').count().orderBy('count', ascending=False).show(10)"
      ],
      "execution_count": 41,
      "outputs": [
        {
          "output_type": "stream",
          "text": [
            "+--------------------+-----+\n",
            "|        Primary Type|count|\n",
            "+--------------------+-----+\n",
            "|               THEFT|   78|\n",
            "|         SEX OFFENSE|   39|\n",
            "|OFFENSE INVOLVING...|   29|\n",
            "|     CRIMINAL DAMAGE|   22|\n",
            "|  DECEPTIVE PRACTICE|   18|\n",
            "| CRIM SEXUAL ASSAULT|   12|\n",
            "|       OTHER OFFENSE|    9|\n",
            "|             ASSAULT|    3|\n",
            "|             BATTERY|    2|\n",
            "|CRIMINAL SEXUAL A...|    1|\n",
            "+--------------------+-----+\n",
            "only showing top 10 rows\n",
            "\n"
          ],
          "name": "stdout"
        }
      ]
    },
    {
      "cell_type": "markdown",
      "metadata": {
        "id": "gt93-RzXr0y6",
        "colab_type": "text"
      },
      "source": [
        "## What percentage of reported crimes resulted in an arrest?"
      ]
    },
    {
      "cell_type": "code",
      "metadata": {
        "id": "xViFtWAur6vR",
        "colab_type": "code",
        "outputId": "f53494cd-09f3-454d-a30e-325c3a96b64c",
        "colab": {
          "base_uri": "https://localhost:8080/",
          "height": 136
        }
      },
      "source": [
        "rc.select('Arrest').distinct().show()"
      ],
      "execution_count": 44,
      "outputs": [
        {
          "output_type": "stream",
          "text": [
            "+------+\n",
            "|Arrest|\n",
            "+------+\n",
            "| false|\n",
            "|  true|\n",
            "+------+\n",
            "\n"
          ],
          "name": "stdout"
        }
      ]
    },
    {
      "cell_type": "code",
      "metadata": {
        "id": "c4Dks1njqZed",
        "colab_type": "code",
        "colab": {
          "base_uri": "https://localhost:8080/",
          "height": 34
        },
        "outputId": "dc5b582e-432e-481f-ef0d-a41156f4bd33"
      },
      "source": [
        "rc.filter(col('Arrest') == \"true\").count() / rc.select('Arrest').count() * 100"
      ],
      "execution_count": 45,
      "outputs": [
        {
          "output_type": "execute_result",
          "data": {
            "text/plain": [
              "5.5813953488372094"
            ]
          },
          "metadata": {
            "tags": []
          },
          "execution_count": 45
        }
      ]
    },
    {
      "cell_type": "markdown",
      "metadata": {
        "id": "0qCYmHSjsLXB",
        "colab_type": "text"
      },
      "source": [
        "## Top 3 locations for reported by crimes?"
      ]
    },
    {
      "cell_type": "code",
      "metadata": {
        "id": "rVGNkSeGsnMB",
        "colab_type": "code",
        "colab": {
          "base_uri": "https://localhost:8080/",
          "height": 357
        },
        "outputId": "28965857-308b-4870-fd2b-4ff436ce1a78"
      },
      "source": [
        "rc.groupby('Location Description').count().orderBy('count', ascending=False).show()"
      ],
      "execution_count": 49,
      "outputs": [
        {
          "output_type": "stream",
          "text": [
            "+--------------------+-----+\n",
            "|Location Description|count|\n",
            "+--------------------+-----+\n",
            "|           RESIDENCE|  104|\n",
            "|CHURCH/SYNAGOGUE/...|   35|\n",
            "|           APARTMENT|   20|\n",
            "|              STREET|   18|\n",
            "|               OTHER|   16|\n",
            "|PARKING LOT/GARAG...|    5|\n",
            "|                BANK|    3|\n",
            "|COMMERCIAL / BUSI...|    3|\n",
            "|    AIRPORT/AIRCRAFT|    2|\n",
            "|FACTORY/MANUFACTU...|    2|\n",
            "|    RESIDENCE-GARAGE|    2|\n",
            "|    DEPARTMENT STORE|    2|\n",
            "|            SIDEWALK|    1|\n",
            "|  SMALL RETAIL STORE|    1|\n",
            "|POLICE FACILITY/V...|    1|\n",
            "+--------------------+-----+\n",
            "\n"
          ],
          "name": "stdout"
        }
      ]
    },
    {
      "cell_type": "markdown",
      "metadata": {
        "id": "-9w_ThxGs99L",
        "colab_type": "text"
      },
      "source": [
        "# Functions\n",
        "\n",
        "List of functions in pyspark:"
      ]
    },
    {
      "cell_type": "code",
      "metadata": {
        "id": "MfeyCfsntBUB",
        "colab_type": "code",
        "colab": {
          "base_uri": "https://localhost:8080/",
          "height": 54
        },
        "outputId": "6f545f95-cbde-442d-ca34-209a83325dbf"
      },
      "source": [
        "from pyspark.sql import functions\n",
        "print(dir(functions))"
      ],
      "execution_count": 46,
      "outputs": [
        {
          "output_type": "stream",
          "text": [
            "['AutoBatchedSerializer', 'Column', 'DataFrame', 'DataType', 'PandasUDFType', 'PickleSerializer', 'PythonEvalType', 'SparkContext', 'StringType', 'UserDefinedFunction', '__all__', '__builtins__', '__cached__', '__doc__', '__file__', '__loader__', '__name__', '__package__', '__spec__', '_binary_mathfunctions', '_collect_list_doc', '_collect_set_doc', '_create_binary_mathfunction', '_create_function', '_create_udf', '_create_window_function', '_functions', '_functions_1_4', '_functions_1_6', '_functions_2_1', '_functions_deprecated', '_lit_doc', '_message', '_string_functions', '_test', '_to_java_column', '_to_seq', '_window_functions', '_wrap_deprecated_function', 'abs', 'acos', 'add_months', 'approxCountDistinct', 'approx_count_distinct', 'array', 'array_contains', 'asc', 'ascii', 'asin', 'atan', 'atan2', 'avg', 'base64', 'bin', 'bitwiseNOT', 'blacklist', 'broadcast', 'bround', 'cbrt', 'ceil', 'coalesce', 'col', 'collect_list', 'collect_set', 'column', 'concat', 'concat_ws', 'conv', 'corr', 'cos', 'cosh', 'count', 'countDistinct', 'covar_pop', 'covar_samp', 'crc32', 'create_map', 'cume_dist', 'current_date', 'current_timestamp', 'date_add', 'date_format', 'date_sub', 'date_trunc', 'datediff', 'dayofmonth', 'dayofweek', 'dayofyear', 'decode', 'degrees', 'dense_rank', 'desc', 'encode', 'exp', 'explode', 'explode_outer', 'expm1', 'expr', 'factorial', 'first', 'floor', 'format_number', 'format_string', 'from_json', 'from_unixtime', 'from_utc_timestamp', 'functools', 'get_json_object', 'greatest', 'grouping', 'grouping_id', 'hash', 'hex', 'hour', 'hypot', 'ignore_unicode_prefix', 'initcap', 'input_file_name', 'instr', 'isnan', 'isnull', 'json_tuple', 'kurtosis', 'lag', 'last', 'last_day', 'lead', 'least', 'length', 'levenshtein', 'lit', 'locate', 'log', 'log10', 'log1p', 'log2', 'lower', 'lpad', 'ltrim', 'map_keys', 'map_values', 'math', 'max', 'md5', 'mean', 'min', 'minute', 'monotonically_increasing_id', 'month', 'months_between', 'nanvl', 'next_day', 'ntile', 'pandas_udf', 'percent_rank', 'posexplode', 'posexplode_outer', 'pow', 'quarter', 'radians', 'rand', 'randn', 'rank', 'regexp_extract', 'regexp_replace', 'repeat', 'reverse', 'rint', 'round', 'row_number', 'rpad', 'rtrim', 'second', 'sha1', 'sha2', 'shiftLeft', 'shiftRight', 'shiftRightUnsigned', 'signum', 'sin', 'since', 'sinh', 'size', 'skewness', 'sort_array', 'soundex', 'spark_partition_id', 'split', 'sqrt', 'stddev', 'stddev_pop', 'stddev_samp', 'struct', 'substring', 'substring_index', 'sum', 'sumDistinct', 'sys', 'tan', 'tanh', 'toDegrees', 'toRadians', 'to_date', 'to_json', 'to_timestamp', 'to_utc_timestamp', 'translate', 'trim', 'trunc', 'udf', 'unbase64', 'unhex', 'unix_timestamp', 'upper', 'var_pop', 'var_samp', 'variance', 'warnings', 'weekofyear', 'when', 'window', 'year']\n"
          ],
          "name": "stdout"
        }
      ]
    },
    {
      "cell_type": "markdown",
      "metadata": {
        "id": "zN4MC6sOtkpr",
        "colab_type": "text"
      },
      "source": [
        "## Display Primary Type as first 4 characters, lower case and upper case"
      ]
    },
    {
      "cell_type": "code",
      "metadata": {
        "id": "y2-OnJuwtugq",
        "colab_type": "code",
        "colab": {}
      },
      "source": [
        "from pyspark.sql.functions import lower, upper, substring"
      ],
      "execution_count": 0,
      "outputs": []
    },
    {
      "cell_type": "code",
      "metadata": {
        "id": "wtdHISZPuCix",
        "colab_type": "code",
        "colab": {
          "base_uri": "https://localhost:8080/",
          "height": 272
        },
        "outputId": "4160ab29-0358-4c64-a47a-43fef82fff65"
      },
      "source": [
        "help(substring)"
      ],
      "execution_count": 52,
      "outputs": [
        {
          "output_type": "stream",
          "text": [
            "Help on function substring in module pyspark.sql.functions:\n",
            "\n",
            "substring(str, pos, len)\n",
            "    Substring starts at `pos` and is of length `len` when str is String type or\n",
            "    returns the slice of byte array that starts at `pos` in byte and is of length `len`\n",
            "    when str is Binary type.\n",
            "    \n",
            "    .. note:: The position is not zero based, but 1 based index.\n",
            "    \n",
            "    >>> df = spark.createDataFrame([('abcd',)], ['s',])\n",
            "    >>> df.select(substring(df.s, 1, 2).alias('s')).collect()\n",
            "    [Row(s='ab')]\n",
            "    \n",
            "    .. versionadded:: 1.5\n",
            "\n"
          ],
          "name": "stdout"
        }
      ]
    },
    {
      "cell_type": "code",
      "metadata": {
        "id": "S4JRllfwt0fY",
        "colab_type": "code",
        "colab": {
          "base_uri": "https://localhost:8080/",
          "height": 204
        },
        "outputId": "94e82e8c-c463-4791-8763-368f8128ae97"
      },
      "source": [
        "rc.select( lower(col('Primary Type')), upper(col('Primary Type')), substring(col('Primary Type'), 1, 4)).show(5)"
      ],
      "execution_count": 57,
      "outputs": [
        {
          "output_type": "stream",
          "text": [
            "+--------------------+--------------------+-----------------------------+\n",
            "| lower(Primary Type)| upper(Primary Type)|substring(Primary Type, 1, 4)|\n",
            "+--------------------+--------------------+-----------------------------+\n",
            "|offense involving...|OFFENSE INVOLVING...|                         OFFE|\n",
            "|         sex offense|         SEX OFFENSE|                         SEX |\n",
            "|         sex offense|         SEX OFFENSE|                         SEX |\n",
            "|         sex offense|         SEX OFFENSE|                         SEX |\n",
            "| crim sexual assault| CRIM SEXUAL ASSAULT|                         CRIM|\n",
            "+--------------------+--------------------+-----------------------------+\n",
            "only showing top 5 rows\n",
            "\n"
          ],
          "name": "stdout"
        }
      ]
    },
    {
      "cell_type": "markdown",
      "metadata": {
        "id": "JC-KkySWvMJt",
        "colab_type": "text"
      },
      "source": [
        "## Show oldest and most recent date"
      ]
    },
    {
      "cell_type": "code",
      "metadata": {
        "id": "vV0yhpPYvQNa",
        "colab_type": "code",
        "colab": {}
      },
      "source": [
        "from pyspark.sql.functions import min, max"
      ],
      "execution_count": 0,
      "outputs": []
    },
    {
      "cell_type": "code",
      "metadata": {
        "id": "s031zeuIvVFM",
        "colab_type": "code",
        "colab": {
          "base_uri": "https://localhost:8080/",
          "height": 119
        },
        "outputId": "e6c6ea7d-0799-414c-e81c-e424def7201e"
      },
      "source": [
        "rc.select(min(col('Date')), max(col('Date'))).show()"
      ],
      "execution_count": 60,
      "outputs": [
        {
          "output_type": "stream",
          "text": [
            "+-------------------+-------------------+\n",
            "|          min(Date)|          max(Date)|\n",
            "+-------------------+-------------------+\n",
            "|2001-01-01 00:00:00|2001-01-02 00:00:00|\n",
            "+-------------------+-------------------+\n",
            "\n"
          ],
          "name": "stdout"
        }
      ]
    },
    {
      "cell_type": "markdown",
      "metadata": {
        "id": "qLo4TvtDveDb",
        "colab_type": "text"
      },
      "source": [
        "## 3 days earliear than oldest date and 3 days later than most recent date"
      ]
    },
    {
      "cell_type": "code",
      "metadata": {
        "id": "2bzQSKNhvroa",
        "colab_type": "code",
        "colab": {}
      },
      "source": [
        "from pyspark.sql.functions import date_add, date_sub"
      ],
      "execution_count": 0,
      "outputs": []
    },
    {
      "cell_type": "code",
      "metadata": {
        "id": "fohrMgQ0vw2m",
        "colab_type": "code",
        "colab": {
          "base_uri": "https://localhost:8080/",
          "height": 204
        },
        "outputId": "878ca105-3222-4c27-d5bd-4fd77cf6bd92"
      },
      "source": [
        "help(date_add)"
      ],
      "execution_count": 62,
      "outputs": [
        {
          "output_type": "stream",
          "text": [
            "Help on function date_add in module pyspark.sql.functions:\n",
            "\n",
            "date_add(start, days)\n",
            "    Returns the date that is `days` days after `start`\n",
            "    \n",
            "    >>> df = spark.createDataFrame([('2015-04-08',)], ['dt'])\n",
            "    >>> df.select(date_add(df.dt, 1).alias('next_date')).collect()\n",
            "    [Row(next_date=datetime.date(2015, 4, 9))]\n",
            "    \n",
            "    .. versionadded:: 1.5\n",
            "\n"
          ],
          "name": "stdout"
        }
      ]
    },
    {
      "cell_type": "code",
      "metadata": {
        "id": "7IAtzCUcv3Ar",
        "colab_type": "code",
        "colab": {
          "base_uri": "https://localhost:8080/",
          "height": 119
        },
        "outputId": "38786136-35eb-498d-8a85-c18b01e3a61d"
      },
      "source": [
        "rc.select(date_sub(min(col('Date')),3), date_add(max(col('Date')),3)).show()"
      ],
      "execution_count": 64,
      "outputs": [
        {
          "output_type": "stream",
          "text": [
            "+----------------------+----------------------+\n",
            "|date_sub(min(Date), 3)|date_add(max(Date), 3)|\n",
            "+----------------------+----------------------+\n",
            "|            2000-12-29|            2001-01-05|\n",
            "+----------------------+----------------------+\n",
            "\n"
          ],
          "name": "stdout"
        }
      ]
    },
    {
      "cell_type": "markdown",
      "metadata": {
        "id": "hrsZw-KW1vsI",
        "colab_type": "text"
      },
      "source": [
        "## Convert to different date formats"
      ]
    },
    {
      "cell_type": "code",
      "metadata": {
        "id": "7hG2EEtnz6az",
        "colab_type": "code",
        "colab": {}
      },
      "source": [
        "from pyspark.sql.functions import to_date, to_timestamp, lit"
      ],
      "execution_count": 0,
      "outputs": []
    },
    {
      "cell_type": "markdown",
      "metadata": {
        "id": "YmwQTJJD23n3",
        "colab_type": "text"
      },
      "source": [
        "### 2019-12-25 13:30:00"
      ]
    },
    {
      "cell_type": "code",
      "metadata": {
        "id": "hNd50Kxt139F",
        "colab_type": "code",
        "colab": {
          "base_uri": "https://localhost:8080/",
          "height": 119
        },
        "outputId": "1efcf3e3-54d6-440b-c715-228c65c5cd49"
      },
      "source": [
        "df = spark.createDataFrame([(\"2019-12-25 13:30:00\",)], ['Christmas'])\n",
        "df.show(1)"
      ],
      "execution_count": 69,
      "outputs": [
        {
          "output_type": "stream",
          "text": [
            "+-------------------+\n",
            "|          Christmas|\n",
            "+-------------------+\n",
            "|2019-12-25 13:30:00|\n",
            "+-------------------+\n",
            "\n"
          ],
          "name": "stdout"
        }
      ]
    },
    {
      "cell_type": "code",
      "metadata": {
        "id": "7xcjk5p82Skg",
        "colab_type": "code",
        "colab": {
          "base_uri": "https://localhost:8080/",
          "height": 119
        },
        "outputId": "a526756e-d095-427f-c2fb-22e5866cc46d"
      },
      "source": [
        "df.select(to_date(col('Christmas'), 'yyyy-MM-dd HH:mm:ss'), to_timestamp(col('Christmas'), 'yyyy-MM-dd HH:mm:ss')).show()"
      ],
      "execution_count": 70,
      "outputs": [
        {
          "output_type": "stream",
          "text": [
            "+-------------------------------------------+------------------------------------------------+\n",
            "|to_date(`Christmas`, 'yyyy-MM-dd HH:mm:ss')|to_timestamp(`Christmas`, 'yyyy-MM-dd HH:mm:ss')|\n",
            "+-------------------------------------------+------------------------------------------------+\n",
            "|                                 2019-12-25|                             2019-12-25 13:30:00|\n",
            "+-------------------------------------------+------------------------------------------------+\n",
            "\n"
          ],
          "name": "stdout"
        }
      ]
    },
    {
      "cell_type": "markdown",
      "metadata": {
        "id": "w7gxTx4i28oe",
        "colab_type": "text"
      },
      "source": [
        "### 25/Dec/2019 13:30:00"
      ]
    },
    {
      "cell_type": "code",
      "metadata": {
        "id": "nWIchbpl3BdG",
        "colab_type": "code",
        "colab": {
          "base_uri": "https://localhost:8080/",
          "height": 119
        },
        "outputId": "a06747fe-efa7-471c-bb06-110d23c197bd"
      },
      "source": [
        "df = spark.createDataFrame([(\"25/Dec/2019 13:30:00\",)], ['Christmas'])\n",
        "df.show(1)"
      ],
      "execution_count": 72,
      "outputs": [
        {
          "output_type": "stream",
          "text": [
            "+--------------------+\n",
            "|           Christmas|\n",
            "+--------------------+\n",
            "|25/Dec/2019 13:30:00|\n",
            "+--------------------+\n",
            "\n"
          ],
          "name": "stdout"
        }
      ]
    },
    {
      "cell_type": "code",
      "metadata": {
        "id": "wzINPqU43GG6",
        "colab_type": "code",
        "colab": {
          "base_uri": "https://localhost:8080/",
          "height": 119
        },
        "outputId": "7a08d1c1-f906-49dd-b5b5-51bce237c30e"
      },
      "source": [
        "df.select(to_date(col('Christmas'), 'dd/MMM/yyyy HH:mm:ss'), to_timestamp(col('Christmas'), 'dd/MMM/yyyy HH:mm:ss')).show()"
      ],
      "execution_count": 73,
      "outputs": [
        {
          "output_type": "stream",
          "text": [
            "+--------------------------------------------+-------------------------------------------------+\n",
            "|to_date(`Christmas`, 'dd/MMM/yyyy HH:mm:ss')|to_timestamp(`Christmas`, 'dd/MMM/yyyy HH:mm:ss')|\n",
            "+--------------------------------------------+-------------------------------------------------+\n",
            "|                                  2019-12-25|                              2019-12-25 13:30:00|\n",
            "+--------------------------------------------+-------------------------------------------------+\n",
            "\n"
          ],
          "name": "stdout"
        }
      ]
    },
    {
      "cell_type": "markdown",
      "metadata": {
        "id": "_KXLvKxu4rJM",
        "colab_type": "text"
      },
      "source": [
        "### 12/25/2019 01:30:00 PM"
      ]
    },
    {
      "cell_type": "code",
      "metadata": {
        "id": "xWxYmPz94yGY",
        "colab_type": "code",
        "colab": {
          "base_uri": "https://localhost:8080/",
          "height": 119
        },
        "outputId": "d3f972b5-bf93-4a81-e6e1-e45d28ce4017"
      },
      "source": [
        "df = spark.createDataFrame([(\"12/25/2019 01:30:00 PM\",)], ['Christmas'])\n",
        "df.show(1)"
      ],
      "execution_count": 74,
      "outputs": [
        {
          "output_type": "stream",
          "text": [
            "+--------------------+\n",
            "|           Christmas|\n",
            "+--------------------+\n",
            "|12/25/2019 01:30:...|\n",
            "+--------------------+\n",
            "\n"
          ],
          "name": "stdout"
        }
      ]
    },
    {
      "cell_type": "code",
      "metadata": {
        "id": "OEF1rDjV46U4",
        "colab_type": "code",
        "colab": {
          "base_uri": "https://localhost:8080/",
          "height": 119
        },
        "outputId": "bf788674-6360-4c2c-ab29-080460b8a7ee"
      },
      "source": [
        "df.select(to_date(col('Christmas'), 'MM/dd/yyyy hh:mm:ss aa'), to_timestamp(col('Christmas'), 'MM/dd/yyyy hh:mm:ss aa')).show()"
      ],
      "execution_count": 76,
      "outputs": [
        {
          "output_type": "stream",
          "text": [
            "+----------------------------------------------+---------------------------------------------------+\n",
            "|to_date(`Christmas`, 'MM/dd/yyyy hh:mm:ss aa')|to_timestamp(`Christmas`, 'MM/dd/yyyy hh:mm:ss aa')|\n",
            "+----------------------------------------------+---------------------------------------------------+\n",
            "|                                    2019-12-25|                                2019-12-25 13:30:00|\n",
            "+----------------------------------------------+---------------------------------------------------+\n",
            "\n"
          ],
          "name": "stdout"
        }
      ]
    },
    {
      "cell_type": "markdown",
      "metadata": {
        "id": "8IRlUQkB_xFm",
        "colab_type": "text"
      },
      "source": [
        "**Note: Consider writing functions in Java/Scala for performance when creating own functions**"
      ]
    },
    {
      "cell_type": "markdown",
      "metadata": {
        "id": "ntd915IAAPoA",
        "colab_type": "text"
      },
      "source": [
        "## Joins"
      ]
    },
    {
      "cell_type": "code",
      "metadata": {
        "id": "q2_j1p6CCn25",
        "colab_type": "code",
        "colab": {
          "base_uri": "https://localhost:8080/",
          "height": 340
        },
        "outputId": "2ecfc304-a151-4bbe-9eb6-92f371f1b90a"
      },
      "source": [
        "!wget -O police-station.csv https://data.cityofchicago.org/api/views/z8bn-74gv/rows.csv?accessType=DOWNLOAD\n",
        "!ls -l"
      ],
      "execution_count": 77,
      "outputs": [
        {
          "output_type": "stream",
          "text": [
            "--2020-04-21 14:02:00--  https://data.cityofchicago.org/api/views/z8bn-74gv/rows.csv?accessType=DOWNLOAD\n",
            "Resolving data.cityofchicago.org (data.cityofchicago.org)... 52.206.68.26, 52.206.140.199, 52.206.140.205\n",
            "Connecting to data.cityofchicago.org (data.cityofchicago.org)|52.206.68.26|:443... connected.\n",
            "HTTP request sent, awaiting response... 200 OK\n",
            "Length: unspecified [text/csv]\n",
            "Saving to: ‘police-station.csv’\n",
            "\n",
            "police-station.csv      [ <=>                ]   5.57K  --.-KB/s    in 0s      \n",
            "\n",
            "2020-04-21 14:02:02 (584 MB/s) - ‘police-station.csv’ saved [5699]\n",
            "\n",
            "total 2077444\n",
            "-rw-r--r--  1 root root       5699 Aug 19  2019 police-station.csv\n",
            "-rw-r--r--  1 root root 1675501425 Apr 20 11:10 reported-crimes.csv\n",
            "drwxr-xr-x  1 root root       4096 Apr  3 16:24 sample_data\n",
            "drwxrwxr-x 13 1000 1000       4096 Jun  1  2018 spark-2.3.1-bin-hadoop2.7\n",
            "-rw-r--r--  1 root root  225883783 Jun  1  2018 spark-2.3.1-bin-hadoop2.7.tgz\n",
            "-rw-r--r--  1 root root  225883783 Jun  1  2018 spark-2.3.1-bin-hadoop2.7.tgz.1\n",
            "drwxr-xr-x  2 root root       4096 Apr 21 10:53 spark-warehouse\n"
          ],
          "name": "stdout"
        }
      ]
    },
    {
      "cell_type": "code",
      "metadata": {
        "id": "ghbSZG1VDFJm",
        "colab_type": "code",
        "colab": {
          "base_uri": "https://localhost:8080/",
          "height": 224
        },
        "outputId": "9fbeeff4-69ea-4d08-9cf1-f96ae318d29e"
      },
      "source": [
        "ps = spark.read.csv('police-station.csv', header=True)\n",
        "ps.show(5)"
      ],
      "execution_count": 89,
      "outputs": [
        {
          "output_type": "stream",
          "text": [
            "+------------+--------------+--------------------+-------+-----+-----+--------------------+------------+------------+------------+------------+------------+-----------+------------+--------------------+\n",
            "|    DISTRICT| DISTRICT NAME|             ADDRESS|   CITY|STATE|  ZIP|             WEBSITE|       PHONE|         FAX|         TTY|X COORDINATE|Y COORDINATE|   LATITUDE|   LONGITUDE|            LOCATION|\n",
            "+------------+--------------+--------------------+-------+-----+-----+--------------------+------------+------------+------------+------------+------------+-----------+------------+--------------------+\n",
            "|Headquarters|  Headquarters| 3510 S Michigan Ave|Chicago|   IL|60653|http://home.chica...|        null|        null|        null| 1177731.401| 1881697.404|41.83070169|-87.62339535|(41.8307016873, -...|\n",
            "|           1|       Central|     1718 S State St|Chicago|   IL|60616|http://home.chica...|312-745-4290|312-745-3694|312-745-3693| 1176569.052| 1891771.704|41.85837259|-87.62735617|(41.8583725929, -...|\n",
            "|           6|       Gresham|   7808 S Halsted St|Chicago|   IL|60620|http://home.chica...|312-745-3617|312-745-3649|312-745-3639| 1172283.013| 1853022.646|41.75213684|-87.64422891|(41.7521368378, -...|\n",
            "|          11|      Harrison|  3151 W Harrison St|Chicago|   IL|60612|http://home.chica...|312-746-8386|312-746-4281|312-746-5151| 1155244.069| 1897148.755|41.87358229|-87.70548813|(41.8735822883, -...|\n",
            "|          16|Jefferson Park|5151 N Milwaukee Ave|Chicago|   IL|60630|http://home.chica...|312-742-4480|312-742-4421|312-742-4423| 1138480.758| 1933660.473|41.97409445|-87.76614884|(41.9740944511, -...|\n",
            "+------------+--------------+--------------------+-------+-----+-----+--------------------+------------+------------+------------+------------+------------+-----------+------------+--------------------+\n",
            "only showing top 5 rows\n",
            "\n"
          ],
          "name": "stdout"
        }
      ]
    },
    {
      "cell_type": "code",
      "metadata": {
        "id": "UxJmOhrMDQ7e",
        "colab_type": "code",
        "colab": {
          "base_uri": "https://localhost:8080/",
          "height": 34
        },
        "outputId": "0398885c-d41f-4196-a73d-ebdf70fc3689"
      },
      "source": [
        "rc.cache() # Caching the original dataframe\n",
        "rc.count() # Running an action because cache command is lazily evaluated"
      ],
      "execution_count": 80,
      "outputs": [
        {
          "output_type": "execute_result",
          "data": {
            "text/plain": [
              "215"
            ]
          },
          "metadata": {
            "tags": []
          },
          "execution_count": 80
        }
      ]
    },
    {
      "cell_type": "code",
      "metadata": {
        "id": "4g8WsXvSDnJa",
        "colab_type": "code",
        "colab": {
          "base_uri": "https://localhost:8080/",
          "height": 510
        },
        "outputId": "5bf1beae-c014-4898-dfa6-d5eb9072d32d"
      },
      "source": [
        "ps.select(col('DISTRICT')).distinct().show(30)"
      ],
      "execution_count": 81,
      "outputs": [
        {
          "output_type": "stream",
          "text": [
            "+--------------------+\n",
            "|            DISTRICT|\n",
            "+--------------------+\n",
            "|                   7|\n",
            "|                  15|\n",
            "|                  11|\n",
            "|                   3|\n",
            "|                   8|\n",
            "|                  22|\n",
            "|                  16|\n",
            "|                   5|\n",
            "|                  18|\n",
            "|                  17|\n",
            "|                   6|\n",
            "|                  19|\n",
            "|                  25|\n",
            "|        Headquarters|\n",
            "|                  24|\n",
            "|                   9|\n",
            "|                   1|\n",
            "|                  20|\n",
            "|                  10|\n",
            "|                   4|\n",
            "|                  12|\n",
            "|                  14|\n",
            "|                   2|\n",
            "|\",Chicago,IL,6060...|\n",
            "+--------------------+\n",
            "\n"
          ],
          "name": "stdout"
        }
      ]
    },
    {
      "cell_type": "code",
      "metadata": {
        "id": "-dTY-GY0Du5A",
        "colab_type": "code",
        "colab": {
          "base_uri": "https://localhost:8080/",
          "height": 476
        },
        "outputId": "4d05a1f5-b81e-4d74-fe4a-9a961a09d334"
      },
      "source": [
        "rc.select(col('District')).distinct().show(30)"
      ],
      "execution_count": 82,
      "outputs": [
        {
          "output_type": "stream",
          "text": [
            "+--------+\n",
            "|District|\n",
            "+--------+\n",
            "|     009|\n",
            "|     012|\n",
            "|     024|\n",
            "|     015|\n",
            "|     006|\n",
            "|     019|\n",
            "|     020|\n",
            "|     011|\n",
            "|     025|\n",
            "|     005|\n",
            "|     003|\n",
            "|     016|\n",
            "|     018|\n",
            "|     008|\n",
            "|     022|\n",
            "|     001|\n",
            "|     014|\n",
            "|     010|\n",
            "|     004|\n",
            "|     017|\n",
            "|     007|\n",
            "|     002|\n",
            "+--------+\n",
            "\n"
          ],
          "name": "stdout"
        }
      ]
    },
    {
      "cell_type": "code",
      "metadata": {
        "id": "Qcopi9VvD3Ed",
        "colab_type": "code",
        "colab": {}
      },
      "source": [
        "from pyspark.sql.functions import lpad"
      ],
      "execution_count": 0,
      "outputs": []
    },
    {
      "cell_type": "code",
      "metadata": {
        "id": "LvZWh1xwEBir",
        "colab_type": "code",
        "colab": {
          "base_uri": "https://localhost:8080/",
          "height": 204
        },
        "outputId": "5fc63e01-5915-442c-b264-0faec5e9bcc6"
      },
      "source": [
        "help(lpad)"
      ],
      "execution_count": 84,
      "outputs": [
        {
          "output_type": "stream",
          "text": [
            "Help on function lpad in module pyspark.sql.functions:\n",
            "\n",
            "lpad(col, len, pad)\n",
            "    Left-pad the string column to width `len` with `pad`.\n",
            "    \n",
            "    >>> df = spark.createDataFrame([('abcd',)], ['s',])\n",
            "    >>> df.select(lpad(df.s, 6, '#').alias('s')).collect()\n",
            "    [Row(s='##abcd')]\n",
            "    \n",
            "    .. versionadded:: 1.5\n",
            "\n"
          ],
          "name": "stdout"
        }
      ]
    },
    {
      "cell_type": "code",
      "metadata": {
        "id": "So5A8-eEEGLE",
        "colab_type": "code",
        "colab": {
          "base_uri": "https://localhost:8080/",
          "height": 204
        },
        "outputId": "30fd2138-bff7-4e94-91ee-bf8738b22687"
      },
      "source": [
        "ps.select(lpad(col('DISTRICT'), 3, '0')).show(5)"
      ],
      "execution_count": 85,
      "outputs": [
        {
          "output_type": "stream",
          "text": [
            "+--------------------+\n",
            "|lpad(DISTRICT, 3, 0)|\n",
            "+--------------------+\n",
            "|                 Hea|\n",
            "|                 001|\n",
            "|                 006|\n",
            "|                 011|\n",
            "|                 016|\n",
            "+--------------------+\n",
            "only showing top 5 rows\n",
            "\n"
          ],
          "name": "stdout"
        }
      ]
    },
    {
      "cell_type": "code",
      "metadata": {
        "id": "uv3iGw8WEh2P",
        "colab_type": "code",
        "colab": {
          "base_uri": "https://localhost:8080/",
          "height": 224
        },
        "outputId": "2c485bee-2572-4488-a62b-30fb5fbae511"
      },
      "source": [
        "ps = ps.withColumn('Format_district', lpad(col('DISTRICT'), 3, '0'))\n",
        "ps.show(5)"
      ],
      "execution_count": 90,
      "outputs": [
        {
          "output_type": "stream",
          "text": [
            "+------------+--------------+--------------------+-------+-----+-----+--------------------+------------+------------+------------+------------+------------+-----------+------------+--------------------+---------------+\n",
            "|    DISTRICT| DISTRICT NAME|             ADDRESS|   CITY|STATE|  ZIP|             WEBSITE|       PHONE|         FAX|         TTY|X COORDINATE|Y COORDINATE|   LATITUDE|   LONGITUDE|            LOCATION|Format_district|\n",
            "+------------+--------------+--------------------+-------+-----+-----+--------------------+------------+------------+------------+------------+------------+-----------+------------+--------------------+---------------+\n",
            "|Headquarters|  Headquarters| 3510 S Michigan Ave|Chicago|   IL|60653|http://home.chica...|        null|        null|        null| 1177731.401| 1881697.404|41.83070169|-87.62339535|(41.8307016873, -...|            Hea|\n",
            "|           1|       Central|     1718 S State St|Chicago|   IL|60616|http://home.chica...|312-745-4290|312-745-3694|312-745-3693| 1176569.052| 1891771.704|41.85837259|-87.62735617|(41.8583725929, -...|            001|\n",
            "|           6|       Gresham|   7808 S Halsted St|Chicago|   IL|60620|http://home.chica...|312-745-3617|312-745-3649|312-745-3639| 1172283.013| 1853022.646|41.75213684|-87.64422891|(41.7521368378, -...|            006|\n",
            "|          11|      Harrison|  3151 W Harrison St|Chicago|   IL|60612|http://home.chica...|312-746-8386|312-746-4281|312-746-5151| 1155244.069| 1897148.755|41.87358229|-87.70548813|(41.8735822883, -...|            011|\n",
            "|          16|Jefferson Park|5151 N Milwaukee Ave|Chicago|   IL|60630|http://home.chica...|312-742-4480|312-742-4421|312-742-4423| 1138480.758| 1933660.473|41.97409445|-87.76614884|(41.9740944511, -...|            016|\n",
            "+------------+--------------+--------------------+-------+-----+-----+--------------------+------------+------------+------------+------------+------------+-----------+------------+--------------------+---------------+\n",
            "only showing top 5 rows\n",
            "\n"
          ],
          "name": "stdout"
        }
      ]
    },
    {
      "cell_type": "code",
      "metadata": {
        "id": "e6ZWIqwoFbv5",
        "colab_type": "code",
        "colab": {
          "base_uri": "https://localhost:8080/",
          "height": 289
        },
        "outputId": "a11fd129-3d93-4766-fb30-39c1b703a5c6"
      },
      "source": [
        "ps.columns"
      ],
      "execution_count": 92,
      "outputs": [
        {
          "output_type": "execute_result",
          "data": {
            "text/plain": [
              "['DISTRICT',\n",
              " 'DISTRICT NAME',\n",
              " 'ADDRESS',\n",
              " 'CITY',\n",
              " 'STATE',\n",
              " 'ZIP',\n",
              " 'WEBSITE',\n",
              " 'PHONE',\n",
              " 'FAX',\n",
              " 'TTY',\n",
              " 'X COORDINATE',\n",
              " 'Y COORDINATE',\n",
              " 'LATITUDE',\n",
              " 'LONGITUDE',\n",
              " 'LOCATION',\n",
              " 'Format_district']"
            ]
          },
          "metadata": {
            "tags": []
          },
          "execution_count": 92
        }
      ]
    },
    {
      "cell_type": "code",
      "metadata": {
        "id": "p63KJpYCFFoU",
        "colab_type": "code",
        "colab": {
          "base_uri": "https://localhost:8080/",
          "height": 479
        },
        "outputId": "21d3c1c1-547c-4f07-a166-2188f3d44be7"
      },
      "source": [
        "rc.join(ps, rc.District == ps.Format_district, 'left_outer').drop(\n",
        "    'ADDRESS',\n",
        " 'CITY',\n",
        " 'STATE',\n",
        " 'ZIP',\n",
        " 'WEBSITE',\n",
        " 'PHONE',\n",
        " 'FAX',\n",
        " 'TTY',\n",
        " 'X COORDINATE',\n",
        " 'Y COORDINATE',\n",
        " 'LATITUDE',\n",
        " 'LONGITUDE',\n",
        " 'LOCATION',\n",
        " 'Format_district'\n",
        ").show()"
      ],
      "execution_count": 94,
      "outputs": [
        {
          "output_type": "stream",
          "text": [
            "+--------+-----------+-------------------+--------------------+----+--------------------+--------------------+--------------------+------+--------+----+--------+----+--------------+--------+----+--------------------+--------+--------------+\n",
            "|      ID|Case Number|               Date|               Block|IUCR|        Primary Type|         Description|Location Description|Arrest|Domestic|Beat|District|Ward|Community Area|FBI Code|Year|          Updated On|DISTRICT| DISTRICT NAME|\n",
            "+--------+-----------+-------------------+--------------------+----+--------------------+--------------------+--------------------+------+--------+----+--------+----+--------------+--------+----+--------------------+--------+--------------+\n",
            "|11231026|   JB152500|2001-01-01 00:00:00| 050XX N ASHLAND AVE|1754|OFFENSE INVOLVING...|AGG SEX ASSLT OF ...|           RESIDENCE| false|   false|2032|     020|  47|             3|      02|2001|10/27/2018 04:00:...|      20|       Lincoln|\n",
            "| 9755209|   HX403553|2001-01-01 00:00:00|031XX W DOUGLAS BLVD|1562|         SEX OFFENSE|AGG CRIMINAL SEXU...|CHURCH/SYNAGOGUE/...| false|   false|1022|     010|  24|            29|      17|2001|08/17/2015 03:03:...|      10|         Ogden|\n",
            "| 9748516|   HX397222|2001-01-01 00:00:00|031XX W DOUGLAS BLVD|1562|         SEX OFFENSE|AGG CRIMINAL SEXU...|CHURCH/SYNAGOGUE/...| false|   false|1022|     010|  24|            29|      17|2001|08/17/2015 03:03:...|      10|         Ogden|\n",
            "| 9755180|   HX403550|2001-01-01 00:00:00|031XX W DOUGLAS BLVD|1562|         SEX OFFENSE|AGG CRIMINAL SEXU...|CHURCH/SYNAGOGUE/...| false|   false|1022|     010|  24|            29|      17|2001|08/17/2015 03:03:...|      10|         Ogden|\n",
            "| 9652075|   HX302422|2001-01-01 00:00:00|   033XX W WALNUT ST|0266| CRIM SEXUAL ASSAULT|           PREDATORY|           RESIDENCE| false|   false|1123|     011|  28|            27|      02|2001|08/17/2015 03:03:...|      11|      Harrison|\n",
            "| 9747360|   HX397217|2001-01-01 00:00:00|031XX W DOUGLAS BLVD|1562|         SEX OFFENSE|AGG CRIMINAL SEXU...|CHURCH/SYNAGOGUE/...| false|   false|1022|     010|  24|            29|      17|2001|08/17/2015 03:03:...|      10|         Ogden|\n",
            "| 9748492|   HX397219|2001-01-01 00:00:00|031XX W DOUGLAS BLVD|1562|         SEX OFFENSE|AGG CRIMINAL SEXU...|CHURCH/SYNAGOGUE/...| false|   false|1022|     010|  24|            29|      17|2001|08/17/2015 03:03:...|      10|         Ogden|\n",
            "| 9755122|   HX403540|2001-01-01 00:00:00|031XX W DOUGLAS BLVD|1562|         SEX OFFENSE|AGG CRIMINAL SEXU...|CHURCH/SYNAGOGUE/...| false|   false|1022|     010|  24|            29|      17|2001|08/17/2015 03:03:...|      10|         Ogden|\n",
            "| 9959537|   HY141743|2001-01-01 00:00:00|034XX N NOTTINGHA...|1752|OFFENSE INVOLVING...|AGG CRIM SEX ABUS...|           RESIDENCE| false|    true|1632|     016|  36|            17|      20|2001|08/31/2015 03:43:...|      16|Jefferson Park|\n",
            "|11109587|   JA459429|2001-01-01 00:00:00|  075XX N SEELEY AVE|1130|  DECEPTIVE PRACTICE|FRAUD OR CONFIDEN...|               OTHER| false|   false|2424|     024|  49|             1|      11|2001|10/07/2017 03:48:...|      24|   Rogers Park|\n",
            "| 1541842|    G295358|2001-01-01 00:00:00| 100XX W OHARE FIELD|1140|  DECEPTIVE PRACTICE|        EMBEZZLEMENT|    AIRPORT/AIRCRAFT|  true|   false|1651|     016|null|            76|      12|2001|01/23/2019 04:13:...|      16|Jefferson Park|\n",
            "| 9754994|   HX403530|2001-01-01 00:00:00|031XX W DOUGLAS BLVD|1562|         SEX OFFENSE|AGG CRIMINAL SEXU...|CHURCH/SYNAGOGUE/...| false|   false|1022|     010|  24|            29|      17|2001|08/17/2015 03:03:...|      10|         Ogden|\n",
            "| 9755056|   HX403531|2001-01-01 00:00:00|031XX W DOUGLAS BLVD|1562|         SEX OFFENSE|AGG CRIMINAL SEXU...|CHURCH/SYNAGOGUE/...| false|   false|1022|     010|  24|            29|      17|2001|08/17/2015 03:03:...|      10|         Ogden|\n",
            "|10473864|   HZ213356|2001-01-01 00:00:00|   012XX S DAMEN AVE|1582|OFFENSE INVOLVING...|   CHILD PORNOGRAPHY|               OTHER| false|   false|1233|     012|   2|            28|      17|2001|04/09/2016 03:47:...|      12|     Near West|\n",
            "| 1311351|    G002096|2001-01-01 00:00:00|       003XX W 40 PL|0620|            BURGLARY|      UNLAWFUL ENTRY|FACTORY/MANUFACTU...| false|   false|0925|     009|null|          null|      05|2001|08/17/2015 03:03:...|       9|       Deering|\n",
            "| 8339048|   HT572662|2001-01-01 00:00:00|   049XX W QUINCY ST|0840|               THEFT|FINANCIAL ID THEF...|           RESIDENCE| false|   false|1533|     015|  28|            25|      06|2001|08/17/2015 03:03:...|      15|        Austin|\n",
            "| 9442043|   HW586150|2001-01-01 00:00:00|008XX S INDEPENDE...|0266| CRIM SEXUAL ASSAULT|           PREDATORY|           RESIDENCE| false|   false|1133|     011|  24|            26|      02|2001|08/17/2015 03:03:...|      11|      Harrison|\n",
            "| 9755100|   HX403538|2001-01-01 00:00:00|031XX W DOUGLAS BLVD|1562|         SEX OFFENSE|AGG CRIMINAL SEXU...|CHURCH/SYNAGOGUE/...| false|   false|1022|     010|  24|            29|      17|2001|08/17/2015 03:03:...|      10|         Ogden|\n",
            "| 9755248|   HX403559|2001-01-01 00:00:00|031XX W DOUGLAS BLVD|1562|         SEX OFFENSE|AGG CRIMINAL SEXU...|CHURCH/SYNAGOGUE/...| false|   false|1022|     010|  24|            29|      17|2001|08/17/2015 03:03:...|      10|         Ogden|\n",
            "| 9755238|   HX403557|2001-01-01 00:00:00|031XX W DOUGLAS BLVD|1562|         SEX OFFENSE|AGG CRIMINAL SEXU...|CHURCH/SYNAGOGUE/...| false|   false|1022|     010|  24|            29|      17|2001|08/17/2015 03:03:...|      10|         Ogden|\n",
            "+--------+-----------+-------------------+--------------------+----+--------------------+--------------------+--------------------+------+--------+----+--------+----+--------------+--------+----+--------------------+--------+--------------+\n",
            "only showing top 20 rows\n",
            "\n"
          ],
          "name": "stdout"
        }
      ]
    },
    {
      "cell_type": "markdown",
      "metadata": {
        "id": "dOiFddJBF2JQ",
        "colab_type": "text"
      },
      "source": [
        "Now we have district names in our rc dataframe."
      ]
    },
    {
      "cell_type": "markdown",
      "metadata": {
        "id": "Ao7fWx_KF9UP",
        "colab_type": "text"
      },
      "source": [
        "# Practice\n",
        "\n",
        "### Most frequently reported criminal sexual assault type"
      ]
    },
    {
      "cell_type": "code",
      "metadata": {
        "id": "r6XJwso_GKB3",
        "colab_type": "code",
        "colab": {
          "base_uri": "https://localhost:8080/",
          "height": 34
        },
        "outputId": "7fff9656-5852-4f78-c733-936fd7503bff"
      },
      "source": [
        "rc.select(col('Primary Type')).distinct().count()"
      ],
      "execution_count": 95,
      "outputs": [
        {
          "output_type": "execute_result",
          "data": {
            "text/plain": [
              "12"
            ]
          },
          "metadata": {
            "tags": []
          },
          "execution_count": 95
        }
      ]
    },
    {
      "cell_type": "code",
      "metadata": {
        "id": "FMosJ6p2GRhL",
        "colab_type": "code",
        "colab": {
          "base_uri": "https://localhost:8080/",
          "height": 306
        },
        "outputId": "d8d3fff9-62af-4c84-e53b-bd2336862dcf"
      },
      "source": [
        "rc.select(col('Primary Type')).distinct().show(12, truncate=False)"
      ],
      "execution_count": 97,
      "outputs": [
        {
          "output_type": "stream",
          "text": [
            "+--------------------------+\n",
            "|Primary Type              |\n",
            "+--------------------------+\n",
            "|OFFENSE INVOLVING CHILDREN|\n",
            "|CRIMINAL SEXUAL ASSAULT   |\n",
            "|ASSAULT                   |\n",
            "|MOTOR VEHICLE THEFT       |\n",
            "|THEFT                     |\n",
            "|BATTERY                   |\n",
            "|CRIM SEXUAL ASSAULT       |\n",
            "|DECEPTIVE PRACTICE        |\n",
            "|SEX OFFENSE               |\n",
            "|CRIMINAL DAMAGE           |\n",
            "|OTHER OFFENSE             |\n",
            "|BURGLARY                  |\n",
            "+--------------------------+\n",
            "\n"
          ],
          "name": "stdout"
        }
      ]
    },
    {
      "cell_type": "code",
      "metadata": {
        "id": "SXqDdZYoGjDu",
        "colab_type": "code",
        "colab": {
          "base_uri": "https://localhost:8080/",
          "height": 343
        },
        "outputId": "9d004efa-610a-4a71-ece2-461c67cf5574"
      },
      "source": [
        "csa = rc.filter( (col('Primary Type') == \"CRIM SEXUAL ASSAULT\") | (col('Primary Type') == \"CRIMINAL SEXUAL ASSAULT\") )\n",
        "csa.show()"
      ],
      "execution_count": 98,
      "outputs": [
        {
          "output_type": "stream",
          "text": [
            "+--------+-----------+-------------------+--------------------+----+--------------------+-----------------+--------------------+------+--------+----+--------+----+--------------+--------+------------+------------+----+--------------------+------------+-------------+--------------------+\n",
            "|      ID|Case Number|               Date|               Block|IUCR|        Primary Type|      Description|Location Description|Arrest|Domestic|Beat|District|Ward|Community Area|FBI Code|X Coordinate|Y Coordinate|Year|          Updated On|    Latitude|    Longitude|            Location|\n",
            "+--------+-----------+-------------------+--------------------+----+--------------------+-----------------+--------------------+------+--------+----+--------+----+--------------+--------+------------+------------+----+--------------------+------------+-------------+--------------------+\n",
            "| 9652075|   HX302422|2001-01-01 00:00:00|   033XX W WALNUT ST|0266| CRIM SEXUAL ASSAULT|        PREDATORY|           RESIDENCE| false|   false|1123|     011|  28|            27|      02|        null|        null|2001|08/17/2015 03:03:...|        null|         null|                null|\n",
            "| 9442043|   HW586150|2001-01-01 00:00:00|008XX S INDEPENDE...|0266| CRIM SEXUAL ASSAULT|        PREDATORY|           RESIDENCE| false|   false|1133|     011|  24|            26|      02|        null|        null|2001|08/17/2015 03:03:...|        null|         null|                null|\n",
            "|11513580|   JB524424|2001-01-01 00:00:00| 030XX W WARREN BLVD|0266|CRIMINAL SEXUAL A...|        PREDATORY|           RESIDENCE| false|    true|1222|     012|  27|            27|      02|        null|        null|2001|03/21/2020 03:44:...|        null|         null|                null|\n",
            "| 2126730|   HH368190|2001-01-01 00:00:00| 060XX W ARDMORE AVE|0281| CRIM SEXUAL ASSAULT|   NON-AGGRAVATED|CHURCH/SYNAGOGUE/...| false|   false|1622|     016|  45|            10|      02|     1135010|     1938218|2001|08/17/2015 03:03:...|41.986663058|-87.778803492|(41.986663058, -8...|\n",
            "| 2743135|   HJ380339|2001-01-01 00:00:00|   039XX N MOZART ST|0266| CRIM SEXUAL ASSAULT|        PREDATORY|           APARTMENT|  true|   false|1733|     017|  33|            16|      02|     1156711|     1926359|2001|08/17/2015 03:03:...|41.953708013|-87.699309457|(41.953708013, -8...|\n",
            "| 3496126|   HK563568|2001-01-01 00:00:00|     012XX W 49TH PL|0265| CRIM SEXUAL ASSAULT|AGGRAVATED: OTHER|           RESIDENCE|  true|   false|0933|     009|  16|            61|      02|     1168563|     1871987|2001|03/31/2006 10:03:...|41.804258318| -87.65731478|(41.804258318, -8...|\n",
            "| 3994567|   HL355644|2001-01-01 00:00:00|035XX S DR MARTIN...|0265| CRIM SEXUAL ASSAULT|AGGRAVATED: OTHER|            SIDEWALK| false|   false|0211|     002|   4|            35|      02|     1179347|     1881844|2001|06/11/2007 03:52:...|41.831067166|-87.617463217|(41.831067166, -8...|\n",
            "| 5508664|   HN320275|2001-01-01 00:00:00| 009XX N HARDING AVE|0266| CRIM SEXUAL ASSAULT|        PREDATORY|           RESIDENCE| false|    true|1112|     011|  27|            23|      02|     1149843|     1906023|2001|06/11/2007 03:52:...|41.898040875|-87.725087394|(41.898040875, -8...|\n",
            "| 5785840|   HN435358|2001-01-01 00:00:00|079XX S MANISTEE AVE|0266| CRIM SEXUAL ASSAULT|        PREDATORY|           RESIDENCE| false|   false|0422|     004|   7|            46|      02|     1195849|     1852812|2001|10/26/2007 01:04:...|41.751008408|-87.557878302|(41.751008408, -8...|\n",
            "| 6483603|   HP551594|2001-01-01 00:00:00|   057XX N RIDGE AVE|0266| CRIM SEXUAL ASSAULT|        PREDATORY|           APARTMENT| false|    true|2013|     020|  48|            77|      02|     1166070|     1938282|2001|02/01/2009 01:04:...|41.986229998|-87.664562732|(41.986229998, -8...|\n",
            "| 6884455|   HR291448|2001-01-01 00:00:00|045XX W JACKSON BLVD|0266| CRIM SEXUAL ASSAULT|        PREDATORY|           RESIDENCE| false|    true|1113|     011|  28|            26|      02|     1146219|     1898343|2001|05/19/2009 01:03:...|41.877035811|-87.738593651|(41.877035811, -8...|\n",
            "| 8146039|   HT380969|2001-01-01 00:00:00|  047XX W MONTANA ST|0266| CRIM SEXUAL ASSAULT|        PREDATORY|           RESIDENCE| false|   false|2521|     025|  31|            19|      02|     1144295|     1915861|2001|07/15/2011 12:39:...|41.925143516|-87.745217143|(41.925143516, -8...|\n",
            "| 8197725|   HT431595|2001-01-01 00:00:00|   009XX N HOMAN AVE|0266| CRIM SEXUAL ASSAULT|        PREDATORY|           RESIDENCE| false|    true|1121|     011|  27|            23|      02|     1153583|     1905844|2001|09/20/2011 12:43:...|  41.8974761|-87.711355397|(41.8974761, -87....|\n",
            "+--------+-----------+-------------------+--------------------+----+--------------------+-----------------+--------------------+------+--------+----+--------+----+--------------+--------+------------+------------+----+--------------------+------------+-------------+--------------------+\n",
            "\n"
          ],
          "name": "stdout"
        }
      ]
    },
    {
      "cell_type": "code",
      "metadata": {
        "id": "5SWPOVACKsAK",
        "colab_type": "code",
        "colab": {
          "base_uri": "https://localhost:8080/",
          "height": 153
        },
        "outputId": "76394f34-d336-4901-808b-0031fe26ecfc"
      },
      "source": [
        "csa.groupby(\"Description\").count().show()"
      ],
      "execution_count": 99,
      "outputs": [
        {
          "output_type": "stream",
          "text": [
            "+-----------------+-----+\n",
            "|      Description|count|\n",
            "+-----------------+-----+\n",
            "|        PREDATORY|   10|\n",
            "|AGGRAVATED: OTHER|    2|\n",
            "|   NON-AGGRAVATED|    1|\n",
            "+-----------------+-----+\n",
            "\n"
          ],
          "name": "stdout"
        }
      ]
    },
    {
      "cell_type": "markdown",
      "metadata": {
        "id": "2mk8XMnILH3R",
        "colab_type": "text"
      },
      "source": [
        "### Day of week with most reported crimes"
      ]
    },
    {
      "cell_type": "code",
      "metadata": {
        "id": "yPj2Z8UkLTN4",
        "colab_type": "code",
        "colab": {}
      },
      "source": [
        "from pyspark.sql.functions import dayofweek"
      ],
      "execution_count": 0,
      "outputs": []
    },
    {
      "cell_type": "code",
      "metadata": {
        "id": "rYii3-SxLaEg",
        "colab_type": "code",
        "colab": {
          "base_uri": "https://localhost:8080/",
          "height": 204
        },
        "outputId": "a24b8b0a-9a03-41bf-e76f-3d944fc946ab"
      },
      "source": [
        "help(dayofweek)"
      ],
      "execution_count": 101,
      "outputs": [
        {
          "output_type": "stream",
          "text": [
            "Help on function dayofweek in module pyspark.sql.functions:\n",
            "\n",
            "dayofweek(col)\n",
            "    Extract the day of the week of a given date as integer.\n",
            "    \n",
            "    >>> df = spark.createDataFrame([('2015-04-08',)], ['dt'])\n",
            "    >>> df.select(dayofweek('dt').alias('day')).collect()\n",
            "    [Row(day=4)]\n",
            "    \n",
            "    .. versionadded:: 2.3\n",
            "\n"
          ],
          "name": "stdout"
        }
      ]
    },
    {
      "cell_type": "code",
      "metadata": {
        "id": "tnRkCPzhLcOP",
        "colab_type": "code",
        "colab": {
          "base_uri": "https://localhost:8080/",
          "height": 204
        },
        "outputId": "4fdd0a55-01c1-487b-ac7c-bd1f060c10ab"
      },
      "source": [
        "rc.select(col('Date'), dayofweek(col('Date'))).show(5)"
      ],
      "execution_count": 104,
      "outputs": [
        {
          "output_type": "stream",
          "text": [
            "+-------------------+---------------+\n",
            "|               Date|dayofweek(Date)|\n",
            "+-------------------+---------------+\n",
            "|2001-01-01 00:00:00|              2|\n",
            "|2001-01-01 00:00:00|              2|\n",
            "|2001-01-01 00:00:00|              2|\n",
            "|2001-01-01 00:00:00|              2|\n",
            "|2001-01-01 00:00:00|              2|\n",
            "+-------------------+---------------+\n",
            "only showing top 5 rows\n",
            "\n"
          ],
          "name": "stdout"
        }
      ]
    },
    {
      "cell_type": "code",
      "metadata": {
        "id": "yeHEvPa-LxBK",
        "colab_type": "code",
        "colab": {}
      },
      "source": [
        "from pyspark.sql.functions import date_format"
      ],
      "execution_count": 0,
      "outputs": []
    },
    {
      "cell_type": "code",
      "metadata": {
        "id": "2jBT2zn6L1fV",
        "colab_type": "code",
        "colab": {
          "base_uri": "https://localhost:8080/",
          "height": 204
        },
        "outputId": "e54c9769-eb88-418f-eadd-253a3a017b1c"
      },
      "source": [
        "rc.select(col('Date'), date_format(col('Date'), \"E\")).show(5)"
      ],
      "execution_count": 107,
      "outputs": [
        {
          "output_type": "stream",
          "text": [
            "+-------------------+--------------------+\n",
            "|               Date|date_format(Date, E)|\n",
            "+-------------------+--------------------+\n",
            "|2001-01-01 00:00:00|                 Mon|\n",
            "|2001-01-01 00:00:00|                 Mon|\n",
            "|2001-01-01 00:00:00|                 Mon|\n",
            "|2001-01-01 00:00:00|                 Mon|\n",
            "|2001-01-01 00:00:00|                 Mon|\n",
            "+-------------------+--------------------+\n",
            "only showing top 5 rows\n",
            "\n"
          ],
          "name": "stdout"
        }
      ]
    },
    {
      "cell_type": "code",
      "metadata": {
        "id": "2YUL4uLYMKJb",
        "colab_type": "code",
        "colab": {
          "base_uri": "https://localhost:8080/",
          "height": 136
        },
        "outputId": "82ee7820-e400-4558-e36a-f4ed5639b912"
      },
      "source": [
        "rc.groupby(date_format(col('Date'), \"E\")).count().show()"
      ],
      "execution_count": 108,
      "outputs": [
        {
          "output_type": "stream",
          "text": [
            "+--------------------+-----+\n",
            "|date_format(Date, E)|count|\n",
            "+--------------------+-----+\n",
            "|                 Mon|  191|\n",
            "|                 Tue|   24|\n",
            "+--------------------+-----+\n",
            "\n"
          ],
          "name": "stdout"
        }
      ]
    },
    {
      "cell_type": "code",
      "metadata": {
        "id": "tqPjB3lKMVo3",
        "colab_type": "code",
        "colab": {
          "base_uri": "https://localhost:8080/",
          "height": 51
        },
        "outputId": "d38bac59-6766-4945-e74a-c989b8441a1c"
      },
      "source": [
        "dayCount = rc.groupby(date_format(col('Date'), \"E\")).count().collect()\n",
        "dayCount"
      ],
      "execution_count": 112,
      "outputs": [
        {
          "output_type": "execute_result",
          "data": {
            "text/plain": [
              "[Row(date_format(Date, E)='Mon', count=191),\n",
              " Row(date_format(Date, E)='Tue', count=24)]"
            ]
          },
          "metadata": {
            "tags": []
          },
          "execution_count": 112
        }
      ]
    },
    {
      "cell_type": "code",
      "metadata": {
        "id": "IxDZ00GzMee_",
        "colab_type": "code",
        "colab": {
          "base_uri": "https://localhost:8080/",
          "height": 34
        },
        "outputId": "39d675db-b580-4a6c-a5a3-bb23a767dd44"
      },
      "source": [
        "dow = [x[0] for x in dayCount]\n",
        "dow"
      ],
      "execution_count": 113,
      "outputs": [
        {
          "output_type": "execute_result",
          "data": {
            "text/plain": [
              "['Mon', 'Tue']"
            ]
          },
          "metadata": {
            "tags": []
          },
          "execution_count": 113
        }
      ]
    },
    {
      "cell_type": "code",
      "metadata": {
        "id": "OqAMOsrcMpvM",
        "colab_type": "code",
        "colab": {
          "base_uri": "https://localhost:8080/",
          "height": 34
        },
        "outputId": "2975152e-5422-4789-ce27-f672608e7fce"
      },
      "source": [
        "cnt = [x[1] for x in dayCount]\n",
        "cnt"
      ],
      "execution_count": 114,
      "outputs": [
        {
          "output_type": "execute_result",
          "data": {
            "text/plain": [
              "[191, 24]"
            ]
          },
          "metadata": {
            "tags": []
          },
          "execution_count": 114
        }
      ]
    },
    {
      "cell_type": "code",
      "metadata": {
        "id": "4uhiYSXFMxeZ",
        "colab_type": "code",
        "colab": {}
      },
      "source": [
        "import pandas as pd\n",
        "import matplotlib.pyplot as plt"
      ],
      "execution_count": 0,
      "outputs": []
    },
    {
      "cell_type": "code",
      "metadata": {
        "id": "JZXe-NTJNNfZ",
        "colab_type": "code",
        "colab": {
          "base_uri": "https://localhost:8080/",
          "height": 111
        },
        "outputId": "b088fd7e-2187-4c09-89c6-776951e1689b"
      },
      "source": [
        "cp = pd.DataFrame({\"Day of week\": dow, \"Count\": cnt})\n",
        "cp"
      ],
      "execution_count": 116,
      "outputs": [
        {
          "output_type": "execute_result",
          "data": {
            "text/html": [
              "<div>\n",
              "<style scoped>\n",
              "    .dataframe tbody tr th:only-of-type {\n",
              "        vertical-align: middle;\n",
              "    }\n",
              "\n",
              "    .dataframe tbody tr th {\n",
              "        vertical-align: top;\n",
              "    }\n",
              "\n",
              "    .dataframe thead th {\n",
              "        text-align: right;\n",
              "    }\n",
              "</style>\n",
              "<table border=\"1\" class=\"dataframe\">\n",
              "  <thead>\n",
              "    <tr style=\"text-align: right;\">\n",
              "      <th></th>\n",
              "      <th>Day of week</th>\n",
              "      <th>Count</th>\n",
              "    </tr>\n",
              "  </thead>\n",
              "  <tbody>\n",
              "    <tr>\n",
              "      <th>0</th>\n",
              "      <td>Mon</td>\n",
              "      <td>191</td>\n",
              "    </tr>\n",
              "    <tr>\n",
              "      <th>1</th>\n",
              "      <td>Tue</td>\n",
              "      <td>24</td>\n",
              "    </tr>\n",
              "  </tbody>\n",
              "</table>\n",
              "</div>"
            ],
            "text/plain": [
              "  Day of week  Count\n",
              "0         Mon    191\n",
              "1         Tue     24"
            ]
          },
          "metadata": {
            "tags": []
          },
          "execution_count": 116
        }
      ]
    },
    {
      "cell_type": "code",
      "metadata": {
        "id": "msGKrH85NYId",
        "colab_type": "code",
        "colab": {
          "base_uri": "https://localhost:8080/",
          "height": 309
        },
        "outputId": "8893b854-70f6-4d9d-9d80-95f8682f9987"
      },
      "source": [
        "cp.sort_values(\"Count\", ascending=False).plot.bar()\n",
        "plt.xlabel(\"Day of week\")\n",
        "plt.ylabel(\"Number of reported crimes\")\n",
        "plt.title(\"Crimes on days\")"
      ],
      "execution_count": 117,
      "outputs": [
        {
          "output_type": "execute_result",
          "data": {
            "text/plain": [
              "Text(0.5, 1.0, 'Crimes on days')"
            ]
          },
          "metadata": {
            "tags": []
          },
          "execution_count": 117
        },
        {
          "output_type": "display_data",
          "data": {
            "image/png": "[encoded data removed]",
            "text/plain": [
              "<Figure size 432x288 with 1 Axes>"
            ]
          },
          "metadata": {
            "tags": [],
            "needs_background": "light"
          }
        }
      ]
    },
    {
      "cell_type": "markdown",
      "metadata": {
        "id": "uEIs12cCNswB",
        "colab_type": "text"
      },
      "source": [
        "# RDDs\n",
        "\n",
        "Resilient Distributed Datasets or RDDs were a primary API for version one and they're still available in Spark version two. Now almost all the code we've been running using DataFrames compiles down to an RDD. An RDD is an immutable partitioned collection of records that can be worked on in parallel. With a DataFrame, each record is a structured row containing fields with a known schema. In the case of RDD, the records are just Java, Scala or Python objects. And so you have complete control over them. Although this has several advantages, there are a couple of challenges. Spark does not understand the inner structure of your records as it does with your DataFrames. This means that the optimizations you would have automatically got with DataFrames, you will need to manually recreate. \n",
        "\n",
        "The RDD APIs are available in Python as well as Scala and Java. You can get good performance with running RDDs with Scala and Java. However, running Python RDDs, is like running Python user-defined functions row by row. So we need to serialize the data to the Python process, work on it in Python and then serialize it back to the Java Virtual Machine. For this reason, it's recommended to stick with the high level APIs in Spark and only use the RDDs when absolutely necessary. \n",
        "\n",
        "Databricks ran a couple of experiments and compared the performance of Scala and Python grouped by aggregation on 10 million integer pairs on a single machine. In the case of DataFrames, both Scala and Python operations are compiled into JVM byte code. So there's little difference between them. Python and Scala DataFrames had two times better performance than Scala RDDs. But wait for it. The same DataFrames, had a whopping five times better performance than Python RDDs. \n",
        "\n",
        "So when would you use RDDs? This is when you need fine grained control over the physical distribution and partition of data. Another possibility is that you are having to maintain some legacy codebase written using RDDs in Spark version one. Now, RDDs are a low level API that are powerful but lack a lot of the optimizations that we have seen with DataFrames. With RDDs, you also do not have access to the built in functions that you do when using DataFrames. This means that you must define each filter, map and aggregation as a function. \n",
        "\n",
        "Transformations, actions and lazy evaluations work in the same way as they do with DataFrames. If you're ever uncertain whether a given function is a transformation or an action in RDD land, look at its return type. Transformations return RDDs while an actions return some other data type. Let's take a look at some transformations. With map, you defined a function and then apply it record by record. Flatmap returns a new RDD by first applying a function to all of the elements RDDs and then flattening the result. Filter, returns a new RDD. Meaning only the elements that satisfy a condition. With reduce, we are taking neighboring elements and producing a single combined result. For example, let's say you have a set of numbers. You can reduce this to its sum by providing a function that takes as input two values and reduces them to one. Count works in the same way that we've seen in DataFrames and allows you to count the number of rows in an RDD."
      ]
    },
    {
      "cell_type": "markdown",
      "metadata": {
        "id": "bxzERcQhQkId",
        "colab_type": "text"
      },
      "source": [
        "Working with a rdd:"
      ]
    },
    {
      "cell_type": "code",
      "metadata": {
        "id": "tP4Rh3pQPnKk",
        "colab_type": "code",
        "colab": {
          "base_uri": "https://localhost:8080/",
          "height": 54
        },
        "outputId": "caa20e49-64b8-4f9c-9695-361bc008583f"
      },
      "source": [
        "psrdd = sc.textFile('police-station.csv') # Create rdd\n",
        "psrdd.first() # Show first entry"
      ],
      "execution_count": 119,
      "outputs": [
        {
          "output_type": "execute_result",
          "data": {
            "text/plain": [
              "'DISTRICT,DISTRICT NAME,ADDRESS,CITY,STATE,ZIP,WEBSITE,PHONE,FAX,TTY,X COORDINATE,Y COORDINATE,LATITUDE,LONGITUDE,LOCATION'"
            ]
          },
          "metadata": {
            "tags": []
          },
          "execution_count": 119
        }
      ]
    },
    {
      "cell_type": "code",
      "metadata": {
        "id": "3E7TYI4QP2DL",
        "colab_type": "code",
        "colab": {}
      },
      "source": [
        "ps_header = psrdd.first() # Get header"
      ],
      "execution_count": 0,
      "outputs": []
    },
    {
      "cell_type": "code",
      "metadata": {
        "id": "e3xSUgrPP6k-",
        "colab_type": "code",
        "colab": {
          "base_uri": "https://localhost:8080/",
          "height": 54
        },
        "outputId": "1d64aca0-7159-4cb2-ca83-7dc28af79564"
      },
      "source": [
        "ps_rest = psrdd.filter(lambda line: line!=ps_header) # Get rest of the file\n",
        "ps_rest.first()"
      ],
      "execution_count": 121,
      "outputs": [
        {
          "output_type": "execute_result",
          "data": {
            "text/plain": [
              "'Headquarters,Headquarters,3510 S Michigan Ave,Chicago,IL,60653,http://home.chicagopolice.org,,,,1177731.401,1881697.404,41.83070169,-87.62339535,\"(41.8307016873, -87.6233953459)\"'"
            ]
          },
          "metadata": {
            "tags": []
          },
          "execution_count": 121
        }
      ]
    },
    {
      "cell_type": "code",
      "metadata": {
        "id": "jBXVdm34QG7D",
        "colab_type": "code",
        "colab": {
          "base_uri": "https://localhost:8080/",
          "height": 289
        },
        "outputId": "f252ef77-b633-465e-f5f9-293ca919870d"
      },
      "source": [
        "ps_rest.map(lambda line: line.split(\",\")).collect()[0] # Display formatted first entry"
      ],
      "execution_count": 125,
      "outputs": [
        {
          "output_type": "execute_result",
          "data": {
            "text/plain": [
              "['Headquarters',\n",
              " 'Headquarters',\n",
              " '3510 S Michigan Ave',\n",
              " 'Chicago',\n",
              " 'IL',\n",
              " '60653',\n",
              " 'http://home.chicagopolice.org',\n",
              " '',\n",
              " '',\n",
              " '',\n",
              " '1177731.401',\n",
              " '1881697.404',\n",
              " '41.83070169',\n",
              " '-87.62339535',\n",
              " '\"(41.8307016873',\n",
              " ' -87.6233953459)\"']"
            ]
          },
          "metadata": {
            "tags": []
          },
          "execution_count": 125
        }
      ]
    },
    {
      "cell_type": "code",
      "metadata": {
        "id": "7Mo6Hnm1QXr9",
        "colab_type": "code",
        "colab": {
          "base_uri": "https://localhost:8080/",
          "height": 34
        },
        "outputId": "9f3f53aa-608e-4f21-d5f8-b158512f3e6e"
      },
      "source": [
        "ps_rest.map(lambda line: line.split(\",\")).count() # Count number of entries"
      ],
      "execution_count": 124,
      "outputs": [
        {
          "output_type": "execute_result",
          "data": {
            "text/plain": [
              "24"
            ]
          },
          "metadata": {
            "tags": []
          },
          "execution_count": 124
        }
      ]
    },
    {
      "cell_type": "code",
      "metadata": {
        "id": "MzTqPt6MQHBx",
        "colab_type": "code",
        "colab": {
          "base_uri": "https://localhost:8080/",
          "height": 34
        },
        "outputId": "1f24d276-2ff1-4297-d32d-9a954d9c5033"
      },
      "source": [
        "ps_rest.filter(lambda line: line.split(\",\")[0] == \"7\" # Filter for district 7\n",
        ").map(lambda line: (line.split(\",\")[0], # Display district id\n",
        "                  line.split(\",\")[1], # Display district name\n",
        "                  line.split(\",\")[2], # Display address\n",
        "                  line.split(\",\")[5] # Display zip\n",
        "                  )).collect()"
      ],
      "execution_count": 130,
      "outputs": [
        {
          "output_type": "execute_result",
          "data": {
            "text/plain": [
              "[('7', 'Englewood', '1438 W 63rd St', '60636')]"
            ]
          },
          "metadata": {
            "tags": []
          },
          "execution_count": 130
        }
      ]
    },
    {
      "cell_type": "code",
      "metadata": {
        "id": "o8MwNIgaR4cy",
        "colab_type": "code",
        "colab": {
          "base_uri": "https://localhost:8080/",
          "height": 51
        },
        "outputId": "2ea98786-65b8-4615-83b9-421c7e9d7e4e"
      },
      "source": [
        "ps_rest.filter(lambda line: line.split(\",\")[0] in ['10','11'] # Filter for 10 and 11\n",
        "               ).map(lambda line: (line.split(\",\")[0], # Display district id\n",
        "                  line.split(\",\")[1], # Display district name\n",
        "                  line.split(\",\")[2], # Display address\n",
        "                  line.split(\",\")[5] # Display zip\n",
        "                  )).collect()"
      ],
      "execution_count": 132,
      "outputs": [
        {
          "output_type": "execute_result",
          "data": {
            "text/plain": [
              "[('11', 'Harrison', '3151 W Harrison St', '60612'),\n",
              " ('10', 'Ogden', '3315 W Ogden Ave', '60623')]"
            ]
          },
          "metadata": {
            "tags": []
          },
          "execution_count": 132
        }
      ]
    }
  ]
}